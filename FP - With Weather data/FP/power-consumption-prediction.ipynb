{
 "cells": [
  {
   "cell_type": "code",
   "execution_count": 1,
   "metadata": {
    "ExecuteTime": {
     "end_time": "2019-07-16T11:30:06.519292Z",
     "start_time": "2019-07-16T11:29:47.079730Z"
    },
    "_cell_guid": "b1076dfc-b9ad-4769-8c92-a6c4dae69d19",
    "_uuid": "8f2839f25d086af736a60e9eeb907d3b93b6e0e5"
   },
   "outputs": [],
   "source": [
    "import numpy as np # linear algebra\n",
    "import pandas as pd # data processing, CSV file I/O (e.g. pd.read_csv)\n",
    "import seaborn as sns\n",
    "import matplotlib.pyplot as plt\n",
    "import xgboost as xgb\n",
    "from sklearn.ensemble import AdaBoostRegressor, BaggingRegressor, ExtraTreesRegressor\n",
    "from xgboost import plot_importance, plot_tree\n",
    "from sklearn.model_selection import train_test_split\n",
    "from sklearn.model_selection import cross_val_score, KFold, GridSearchCV, TimeSeriesSplit\n",
    "from sklearn.metrics import mean_squared_error, mean_absolute_error,r2_score,explained_variance_score\n",
    "import warnings  \n",
    "warnings.filterwarnings('ignore')\n",
    "plt.style.use('ggplot')"
   ]
  },
  {
   "cell_type": "markdown",
   "metadata": {
    "_cell_guid": "79c7e3d0-c299-4dcb-8224-4455121ee9b0",
    "_uuid": "d629ff2d2480ee46fbb7e2d37f6b5fab8052498a",
    "collapsed": true
   },
   "source": [
    "# Data"
   ]
  },
  {
   "cell_type": "markdown",
   "metadata": {},
   "source": [
    "## Power Consumption data"
   ]
  },
  {
   "cell_type": "code",
   "execution_count": 2,
   "metadata": {
    "ExecuteTime": {
     "end_time": "2019-07-16T11:30:36.866923Z",
     "start_time": "2019-07-16T11:30:36.552978Z"
    }
   },
   "outputs": [
    {
     "data": {
      "text/html": [
       "<div>\n",
       "<style scoped>\n",
       "    .dataframe tbody tr th:only-of-type {\n",
       "        vertical-align: middle;\n",
       "    }\n",
       "\n",
       "    .dataframe tbody tr th {\n",
       "        vertical-align: top;\n",
       "    }\n",
       "\n",
       "    .dataframe thead th {\n",
       "        text-align: right;\n",
       "    }\n",
       "</style>\n",
       "<table border=\"1\" class=\"dataframe\">\n",
       "  <thead>\n",
       "    <tr style=\"text-align: right;\">\n",
       "      <th></th>\n",
       "      <th>electric_power</th>\n",
       "    </tr>\n",
       "    <tr>\n",
       "      <th>Datetime</th>\n",
       "      <th></th>\n",
       "    </tr>\n",
       "  </thead>\n",
       "  <tbody>\n",
       "    <tr>\n",
       "      <th>2017-02-06 07:30:00</th>\n",
       "      <td>26.597063</td>\n",
       "    </tr>\n",
       "    <tr>\n",
       "      <th>2017-02-06 08:30:00</th>\n",
       "      <td>30.096608</td>\n",
       "    </tr>\n",
       "    <tr>\n",
       "      <th>2017-02-06 09:30:00</th>\n",
       "      <td>30.744339</td>\n",
       "    </tr>\n",
       "    <tr>\n",
       "      <th>2017-02-06 10:30:00</th>\n",
       "      <td>30.696277</td>\n",
       "    </tr>\n",
       "    <tr>\n",
       "      <th>2017-02-06 11:30:00</th>\n",
       "      <td>29.545297</td>\n",
       "    </tr>\n",
       "  </tbody>\n",
       "</table>\n",
       "</div>"
      ],
      "text/plain": [
       "                     electric_power\n",
       "Datetime                           \n",
       "2017-02-06 07:30:00       26.597063\n",
       "2017-02-06 08:30:00       30.096608\n",
       "2017-02-06 09:30:00       30.744339\n",
       "2017-02-06 10:30:00       30.696277\n",
       "2017-02-06 11:30:00       29.545297"
      ]
     },
     "execution_count": 2,
     "metadata": {},
     "output_type": "execute_result"
    }
   ],
   "source": [
    "pjme_df = pd.read_csv('./power_electricity_resampled.csv', parse_dates=[0], index_col=[0])\n",
    "pjme_df = pjme_df.loc[~pjme_df.index.duplicated(keep='first')].sort_index().dropna()\n",
    "pjme_df.head()"
   ]
  },
  {
   "cell_type": "code",
   "execution_count": 3,
   "metadata": {
    "ExecuteTime": {
     "end_time": "2019-07-16T11:30:37.891742Z",
     "start_time": "2019-07-16T11:30:37.881743Z"
    }
   },
   "outputs": [
    {
     "data": {
      "text/plain": [
       "(11310, 1)"
      ]
     },
     "execution_count": 3,
     "metadata": {},
     "output_type": "execute_result"
    }
   ],
   "source": [
    "pjme_df.shape"
   ]
  },
  {
   "cell_type": "code",
   "execution_count": 4,
   "metadata": {
    "ExecuteTime": {
     "end_time": "2019-07-16T11:30:38.715596Z",
     "start_time": "2019-07-16T11:30:38.672604Z"
    }
   },
   "outputs": [
    {
     "data": {
      "text/html": [
       "<div>\n",
       "<style scoped>\n",
       "    .dataframe tbody tr th:only-of-type {\n",
       "        vertical-align: middle;\n",
       "    }\n",
       "\n",
       "    .dataframe tbody tr th {\n",
       "        vertical-align: top;\n",
       "    }\n",
       "\n",
       "    .dataframe thead th {\n",
       "        text-align: right;\n",
       "    }\n",
       "</style>\n",
       "<table border=\"1\" class=\"dataframe\">\n",
       "  <thead>\n",
       "    <tr style=\"text-align: right;\">\n",
       "      <th></th>\n",
       "      <th>electric_power</th>\n",
       "    </tr>\n",
       "  </thead>\n",
       "  <tbody>\n",
       "    <tr>\n",
       "      <th>count</th>\n",
       "      <td>11310.000000</td>\n",
       "    </tr>\n",
       "    <tr>\n",
       "      <th>mean</th>\n",
       "      <td>9.306502</td>\n",
       "    </tr>\n",
       "    <tr>\n",
       "      <th>std</th>\n",
       "      <td>4.743364</td>\n",
       "    </tr>\n",
       "    <tr>\n",
       "      <th>min</th>\n",
       "      <td>5.564006</td>\n",
       "    </tr>\n",
       "    <tr>\n",
       "      <th>25%</th>\n",
       "      <td>6.663160</td>\n",
       "    </tr>\n",
       "    <tr>\n",
       "      <th>50%</th>\n",
       "      <td>7.435117</td>\n",
       "    </tr>\n",
       "    <tr>\n",
       "      <th>75%</th>\n",
       "      <td>9.743601</td>\n",
       "    </tr>\n",
       "    <tr>\n",
       "      <th>max</th>\n",
       "      <td>36.533492</td>\n",
       "    </tr>\n",
       "  </tbody>\n",
       "</table>\n",
       "</div>"
      ],
      "text/plain": [
       "       electric_power\n",
       "count    11310.000000\n",
       "mean         9.306502\n",
       "std          4.743364\n",
       "min          5.564006\n",
       "25%          6.663160\n",
       "50%          7.435117\n",
       "75%          9.743601\n",
       "max         36.533492"
      ]
     },
     "execution_count": 4,
     "metadata": {},
     "output_type": "execute_result"
    }
   ],
   "source": [
    "pjme_df.describe()"
   ]
  },
  {
   "cell_type": "code",
   "execution_count": 5,
   "metadata": {
    "ExecuteTime": {
     "end_time": "2019-07-16T11:30:41.886035Z",
     "start_time": "2019-07-16T11:30:39.353483Z"
    }
   },
   "outputs": [
    {
     "data": {
      "image/png": "[encoded data removed]",
      "text/plain": [
       "<Figure size 936x504 with 1 Axes>"
      ]
     },
     "metadata": {
      "needs_background": "light"
     },
     "output_type": "display_data"
    }
   ],
   "source": [
    "_ = pjme_df.plot.hist(figsize=(13, 7), bins=200, title='Distribution of Electricity Power Consumption')\n",
    "plt.xlabel('Power (kWatt)')\n",
    "plt.show()"
   ]
  },
  {
   "cell_type": "markdown",
   "metadata": {},
   "source": [
    "## Weather Data"
   ]
  },
  {
   "cell_type": "markdown",
   "metadata": {},
   "source": [
    "### Combine Power and weather data"
   ]
  },
  {
   "cell_type": "code",
   "execution_count": 6,
   "metadata": {
    "ExecuteTime": {
     "end_time": "2019-07-16T11:30:44.062653Z",
     "start_time": "2019-07-16T11:30:41.893033Z"
    }
   },
   "outputs": [
    {
     "data": {
      "text/html": [
       "<div>\n",
       "<style scoped>\n",
       "    .dataframe tbody tr th:only-of-type {\n",
       "        vertical-align: middle;\n",
       "    }\n",
       "\n",
       "    .dataframe tbody tr th {\n",
       "        vertical-align: top;\n",
       "    }\n",
       "\n",
       "    .dataframe thead th {\n",
       "        text-align: right;\n",
       "    }\n",
       "</style>\n",
       "<table border=\"1\" class=\"dataframe\">\n",
       "  <thead>\n",
       "    <tr style=\"text-align: right;\">\n",
       "      <th></th>\n",
       "      <th>Temperature</th>\n",
       "      <th>Pressure</th>\n",
       "      <th>Humidity</th>\n",
       "      <th>Wind</th>\n",
       "      <th>Wind_Speed</th>\n",
       "      <th>Forcast</th>\n",
       "      <th>City</th>\n",
       "      <th>pressure_log</th>\n",
       "    </tr>\n",
       "    <tr>\n",
       "      <th>Datetime</th>\n",
       "      <th></th>\n",
       "      <th></th>\n",
       "      <th></th>\n",
       "      <th></th>\n",
       "      <th></th>\n",
       "      <th></th>\n",
       "      <th></th>\n",
       "      <th></th>\n",
       "    </tr>\n",
       "  </thead>\n",
       "  <tbody>\n",
       "    <tr>\n",
       "      <th>2017-01-03 05:00:00</th>\n",
       "      <td>15.9</td>\n",
       "      <td>758.1</td>\n",
       "      <td>86.0</td>\n",
       "      <td>Wind blowing from the west</td>\n",
       "      <td>3.0</td>\n",
       "      <td>Mist.</td>\n",
       "      <td>Falconara</td>\n",
       "      <td>6.630815</td>\n",
       "    </tr>\n",
       "    <tr>\n",
       "      <th>2017-01-03 14:00:00</th>\n",
       "      <td>20.4</td>\n",
       "      <td>760.2</td>\n",
       "      <td>64.0</td>\n",
       "      <td>Wind blowing from the north-west</td>\n",
       "      <td>8.0</td>\n",
       "      <td></td>\n",
       "      <td>Falconara</td>\n",
       "      <td>6.633582</td>\n",
       "    </tr>\n",
       "    <tr>\n",
       "      <th>2017-01-03 20:00:00</th>\n",
       "      <td>16.9</td>\n",
       "      <td>761.4</td>\n",
       "      <td>75.0</td>\n",
       "      <td>Wind blowing from the north-west</td>\n",
       "      <td>7.0</td>\n",
       "      <td></td>\n",
       "      <td>Falconara</td>\n",
       "      <td>6.635159</td>\n",
       "    </tr>\n",
       "    <tr>\n",
       "      <th>2017-01-03 23:00:00</th>\n",
       "      <td>16.4</td>\n",
       "      <td>762.3</td>\n",
       "      <td>74.0</td>\n",
       "      <td>Wind blowing from the north-west</td>\n",
       "      <td>8.0</td>\n",
       "      <td></td>\n",
       "      <td>Falconara</td>\n",
       "      <td>6.636340</td>\n",
       "    </tr>\n",
       "    <tr>\n",
       "      <th>2017-01-04 02:00:00</th>\n",
       "      <td>15.8</td>\n",
       "      <td>761.1</td>\n",
       "      <td>78.0</td>\n",
       "      <td>Wind blowing from the west-northwest</td>\n",
       "      <td>6.0</td>\n",
       "      <td>Clouds generally dissolving or becoming less d...</td>\n",
       "      <td>Falconara</td>\n",
       "      <td>6.634765</td>\n",
       "    </tr>\n",
       "  </tbody>\n",
       "</table>\n",
       "</div>"
      ],
      "text/plain": [
       "                     Temperature  Pressure  Humidity  \\\n",
       "Datetime                                               \n",
       "2017-01-03 05:00:00         15.9     758.1      86.0   \n",
       "2017-01-03 14:00:00         20.4     760.2      64.0   \n",
       "2017-01-03 20:00:00         16.9     761.4      75.0   \n",
       "2017-01-03 23:00:00         16.4     762.3      74.0   \n",
       "2017-01-04 02:00:00         15.8     761.1      78.0   \n",
       "\n",
       "                                                     Wind  Wind_Speed  \\\n",
       "Datetime                                                                \n",
       "2017-01-03 05:00:00            Wind blowing from the west         3.0   \n",
       "2017-01-03 14:00:00      Wind blowing from the north-west         8.0   \n",
       "2017-01-03 20:00:00      Wind blowing from the north-west         7.0   \n",
       "2017-01-03 23:00:00      Wind blowing from the north-west         8.0   \n",
       "2017-01-04 02:00:00  Wind blowing from the west-northwest         6.0   \n",
       "\n",
       "                                                               Forcast  \\\n",
       "Datetime                                                                 \n",
       "2017-01-03 05:00:00                                             Mist.    \n",
       "2017-01-03 14:00:00                                                      \n",
       "2017-01-03 20:00:00                                                      \n",
       "2017-01-03 23:00:00                                                      \n",
       "2017-01-04 02:00:00  Clouds generally dissolving or becoming less d...   \n",
       "\n",
       "                           City  pressure_log  \n",
       "Datetime                                       \n",
       "2017-01-03 05:00:00  Falconara       6.630815  \n",
       "2017-01-03 14:00:00  Falconara       6.633582  \n",
       "2017-01-03 20:00:00  Falconara       6.635159  \n",
       "2017-01-03 23:00:00  Falconara       6.636340  \n",
       "2017-01-04 02:00:00  Falconara       6.634765  "
      ]
     },
     "execution_count": 6,
     "metadata": {},
     "output_type": "execute_result"
    }
   ],
   "source": [
    "weather_d = pd.read_csv('./weather.csv', parse_dates=[0], index_col=[0])\n",
    "weather_d = weather_d.loc[~weather_d.index.duplicated(keep='first')].sort_index().dropna()\n",
    "weather_d = weather_d.assign(\n",
    "                                pressure_log = weather_d.Pressure.apply(np.log)\n",
    "                                )\n",
    "weather_d.head()"
   ]
  },
  {
   "cell_type": "code",
   "execution_count": 7,
   "metadata": {
    "ExecuteTime": {
     "end_time": "2019-07-16T11:30:44.098646Z",
     "start_time": "2019-07-16T11:30:44.068650Z"
    }
   },
   "outputs": [
    {
     "data": {
      "text/html": [
       "<div>\n",
       "<style scoped>\n",
       "    .dataframe tbody tr th:only-of-type {\n",
       "        vertical-align: middle;\n",
       "    }\n",
       "\n",
       "    .dataframe tbody tr th {\n",
       "        vertical-align: top;\n",
       "    }\n",
       "\n",
       "    .dataframe thead th {\n",
       "        text-align: right;\n",
       "    }\n",
       "</style>\n",
       "<table border=\"1\" class=\"dataframe\">\n",
       "  <thead>\n",
       "    <tr style=\"text-align: right;\">\n",
       "      <th></th>\n",
       "      <th>Temperature</th>\n",
       "      <th>Pressure</th>\n",
       "      <th>Humidity</th>\n",
       "      <th>Wind</th>\n",
       "      <th>Wind_Speed</th>\n",
       "      <th>City</th>\n",
       "      <th>pressure_log</th>\n",
       "    </tr>\n",
       "    <tr>\n",
       "      <th>Datetime</th>\n",
       "      <th></th>\n",
       "      <th></th>\n",
       "      <th></th>\n",
       "      <th></th>\n",
       "      <th></th>\n",
       "      <th></th>\n",
       "      <th></th>\n",
       "    </tr>\n",
       "  </thead>\n",
       "  <tbody>\n",
       "    <tr>\n",
       "      <th>2017-01-03 05:00:00</th>\n",
       "      <td>15.9</td>\n",
       "      <td>758.1</td>\n",
       "      <td>86.0</td>\n",
       "      <td>Wind blowing from the west</td>\n",
       "      <td>3.0</td>\n",
       "      <td>Falconara</td>\n",
       "      <td>6.630815</td>\n",
       "    </tr>\n",
       "    <tr>\n",
       "      <th>2017-01-03 14:00:00</th>\n",
       "      <td>20.4</td>\n",
       "      <td>760.2</td>\n",
       "      <td>64.0</td>\n",
       "      <td>Wind blowing from the north-west</td>\n",
       "      <td>8.0</td>\n",
       "      <td>Falconara</td>\n",
       "      <td>6.633582</td>\n",
       "    </tr>\n",
       "    <tr>\n",
       "      <th>2017-01-03 20:00:00</th>\n",
       "      <td>16.9</td>\n",
       "      <td>761.4</td>\n",
       "      <td>75.0</td>\n",
       "      <td>Wind blowing from the north-west</td>\n",
       "      <td>7.0</td>\n",
       "      <td>Falconara</td>\n",
       "      <td>6.635159</td>\n",
       "    </tr>\n",
       "    <tr>\n",
       "      <th>2017-01-03 23:00:00</th>\n",
       "      <td>16.4</td>\n",
       "      <td>762.3</td>\n",
       "      <td>74.0</td>\n",
       "      <td>Wind blowing from the north-west</td>\n",
       "      <td>8.0</td>\n",
       "      <td>Falconara</td>\n",
       "      <td>6.636340</td>\n",
       "    </tr>\n",
       "    <tr>\n",
       "      <th>2017-01-04 02:00:00</th>\n",
       "      <td>15.8</td>\n",
       "      <td>761.1</td>\n",
       "      <td>78.0</td>\n",
       "      <td>Wind blowing from the west-northwest</td>\n",
       "      <td>6.0</td>\n",
       "      <td>Falconara</td>\n",
       "      <td>6.634765</td>\n",
       "    </tr>\n",
       "  </tbody>\n",
       "</table>\n",
       "</div>"
      ],
      "text/plain": [
       "                     Temperature  Pressure  Humidity  \\\n",
       "Datetime                                               \n",
       "2017-01-03 05:00:00         15.9     758.1      86.0   \n",
       "2017-01-03 14:00:00         20.4     760.2      64.0   \n",
       "2017-01-03 20:00:00         16.9     761.4      75.0   \n",
       "2017-01-03 23:00:00         16.4     762.3      74.0   \n",
       "2017-01-04 02:00:00         15.8     761.1      78.0   \n",
       "\n",
       "                                                     Wind  Wind_Speed  \\\n",
       "Datetime                                                                \n",
       "2017-01-03 05:00:00            Wind blowing from the west         3.0   \n",
       "2017-01-03 14:00:00      Wind blowing from the north-west         8.0   \n",
       "2017-01-03 20:00:00      Wind blowing from the north-west         7.0   \n",
       "2017-01-03 23:00:00      Wind blowing from the north-west         8.0   \n",
       "2017-01-04 02:00:00  Wind blowing from the west-northwest         6.0   \n",
       "\n",
       "                           City  pressure_log  \n",
       "Datetime                                       \n",
       "2017-01-03 05:00:00  Falconara       6.630815  \n",
       "2017-01-03 14:00:00  Falconara       6.633582  \n",
       "2017-01-03 20:00:00  Falconara       6.635159  \n",
       "2017-01-03 23:00:00  Falconara       6.636340  \n",
       "2017-01-04 02:00:00  Falconara       6.634765  "
      ]
     },
     "execution_count": 7,
     "metadata": {},
     "output_type": "execute_result"
    }
   ],
   "source": [
    "weather_d.drop('Forcast', axis=1, inplace=True)\n",
    "weather_d.head()"
   ]
  },
  {
   "cell_type": "code",
   "execution_count": 8,
   "metadata": {
    "ExecuteTime": {
     "end_time": "2019-07-16T11:30:44.148635Z",
     "start_time": "2019-07-16T11:30:44.103642Z"
    }
   },
   "outputs": [
    {
     "data": {
      "text/html": [
       "<div>\n",
       "<style scoped>\n",
       "    .dataframe tbody tr th:only-of-type {\n",
       "        vertical-align: middle;\n",
       "    }\n",
       "\n",
       "    .dataframe tbody tr th {\n",
       "        vertical-align: top;\n",
       "    }\n",
       "\n",
       "    .dataframe thead th {\n",
       "        text-align: right;\n",
       "    }\n",
       "</style>\n",
       "<table border=\"1\" class=\"dataframe\">\n",
       "  <thead>\n",
       "    <tr style=\"text-align: right;\">\n",
       "      <th></th>\n",
       "      <th>Temperature</th>\n",
       "      <th>Pressure</th>\n",
       "      <th>Humidity</th>\n",
       "      <th>Wind</th>\n",
       "      <th>Wind_Speed</th>\n",
       "      <th>pressure_log</th>\n",
       "    </tr>\n",
       "    <tr>\n",
       "      <th>Datetime</th>\n",
       "      <th></th>\n",
       "      <th></th>\n",
       "      <th></th>\n",
       "      <th></th>\n",
       "      <th></th>\n",
       "      <th></th>\n",
       "    </tr>\n",
       "  </thead>\n",
       "  <tbody>\n",
       "    <tr>\n",
       "      <th>2017-01-03 05:00:00</th>\n",
       "      <td>15.9</td>\n",
       "      <td>758.1</td>\n",
       "      <td>86.0</td>\n",
       "      <td>Wind blowing from the west</td>\n",
       "      <td>3.0</td>\n",
       "      <td>6.630815</td>\n",
       "    </tr>\n",
       "    <tr>\n",
       "      <th>2017-01-03 14:00:00</th>\n",
       "      <td>20.4</td>\n",
       "      <td>760.2</td>\n",
       "      <td>64.0</td>\n",
       "      <td>Wind blowing from the north-west</td>\n",
       "      <td>8.0</td>\n",
       "      <td>6.633582</td>\n",
       "    </tr>\n",
       "    <tr>\n",
       "      <th>2017-01-03 20:00:00</th>\n",
       "      <td>16.9</td>\n",
       "      <td>761.4</td>\n",
       "      <td>75.0</td>\n",
       "      <td>Wind blowing from the north-west</td>\n",
       "      <td>7.0</td>\n",
       "      <td>6.635159</td>\n",
       "    </tr>\n",
       "    <tr>\n",
       "      <th>2017-01-03 23:00:00</th>\n",
       "      <td>16.4</td>\n",
       "      <td>762.3</td>\n",
       "      <td>74.0</td>\n",
       "      <td>Wind blowing from the north-west</td>\n",
       "      <td>8.0</td>\n",
       "      <td>6.636340</td>\n",
       "    </tr>\n",
       "    <tr>\n",
       "      <th>2017-01-04 02:00:00</th>\n",
       "      <td>15.8</td>\n",
       "      <td>761.1</td>\n",
       "      <td>78.0</td>\n",
       "      <td>Wind blowing from the west-northwest</td>\n",
       "      <td>6.0</td>\n",
       "      <td>6.634765</td>\n",
       "    </tr>\n",
       "  </tbody>\n",
       "</table>\n",
       "</div>"
      ],
      "text/plain": [
       "                     Temperature  Pressure  Humidity  \\\n",
       "Datetime                                               \n",
       "2017-01-03 05:00:00         15.9     758.1      86.0   \n",
       "2017-01-03 14:00:00         20.4     760.2      64.0   \n",
       "2017-01-03 20:00:00         16.9     761.4      75.0   \n",
       "2017-01-03 23:00:00         16.4     762.3      74.0   \n",
       "2017-01-04 02:00:00         15.8     761.1      78.0   \n",
       "\n",
       "                                                     Wind  Wind_Speed  \\\n",
       "Datetime                                                                \n",
       "2017-01-03 05:00:00            Wind blowing from the west         3.0   \n",
       "2017-01-03 14:00:00      Wind blowing from the north-west         8.0   \n",
       "2017-01-03 20:00:00      Wind blowing from the north-west         7.0   \n",
       "2017-01-03 23:00:00      Wind blowing from the north-west         8.0   \n",
       "2017-01-04 02:00:00  Wind blowing from the west-northwest         6.0   \n",
       "\n",
       "                     pressure_log  \n",
       "Datetime                           \n",
       "2017-01-03 05:00:00      6.630815  \n",
       "2017-01-03 14:00:00      6.633582  \n",
       "2017-01-03 20:00:00      6.635159  \n",
       "2017-01-03 23:00:00      6.636340  \n",
       "2017-01-04 02:00:00      6.634765  "
      ]
     },
     "execution_count": 8,
     "metadata": {},
     "output_type": "execute_result"
    }
   ],
   "source": [
    "weather_d.drop('City', axis=1, inplace=True)\n",
    "weather_d.head()"
   ]
  },
  {
   "cell_type": "code",
   "execution_count": 9,
   "metadata": {
    "ExecuteTime": {
     "end_time": "2019-07-16T11:30:45.725355Z",
     "start_time": "2019-07-16T11:30:45.700361Z"
    }
   },
   "outputs": [
    {
     "data": {
      "text/html": [
       "<div>\n",
       "<style scoped>\n",
       "    .dataframe tbody tr th:only-of-type {\n",
       "        vertical-align: middle;\n",
       "    }\n",
       "\n",
       "    .dataframe tbody tr th {\n",
       "        vertical-align: top;\n",
       "    }\n",
       "\n",
       "    .dataframe thead th {\n",
       "        text-align: right;\n",
       "    }\n",
       "</style>\n",
       "<table border=\"1\" class=\"dataframe\">\n",
       "  <thead>\n",
       "    <tr style=\"text-align: right;\">\n",
       "      <th></th>\n",
       "      <th>Temperature</th>\n",
       "      <th>Pressure</th>\n",
       "      <th>Humidity</th>\n",
       "      <th>Wind_Speed</th>\n",
       "      <th>pressure_log</th>\n",
       "    </tr>\n",
       "    <tr>\n",
       "      <th>Datetime</th>\n",
       "      <th></th>\n",
       "      <th></th>\n",
       "      <th></th>\n",
       "      <th></th>\n",
       "      <th></th>\n",
       "    </tr>\n",
       "  </thead>\n",
       "  <tbody>\n",
       "    <tr>\n",
       "      <th>2017-01-03 05:00:00</th>\n",
       "      <td>15.9</td>\n",
       "      <td>758.1</td>\n",
       "      <td>86.0</td>\n",
       "      <td>3.0</td>\n",
       "      <td>6.630815</td>\n",
       "    </tr>\n",
       "    <tr>\n",
       "      <th>2017-01-03 14:00:00</th>\n",
       "      <td>20.4</td>\n",
       "      <td>760.2</td>\n",
       "      <td>64.0</td>\n",
       "      <td>8.0</td>\n",
       "      <td>6.633582</td>\n",
       "    </tr>\n",
       "    <tr>\n",
       "      <th>2017-01-03 20:00:00</th>\n",
       "      <td>16.9</td>\n",
       "      <td>761.4</td>\n",
       "      <td>75.0</td>\n",
       "      <td>7.0</td>\n",
       "      <td>6.635159</td>\n",
       "    </tr>\n",
       "    <tr>\n",
       "      <th>2017-01-03 23:00:00</th>\n",
       "      <td>16.4</td>\n",
       "      <td>762.3</td>\n",
       "      <td>74.0</td>\n",
       "      <td>8.0</td>\n",
       "      <td>6.636340</td>\n",
       "    </tr>\n",
       "    <tr>\n",
       "      <th>2017-01-04 02:00:00</th>\n",
       "      <td>15.8</td>\n",
       "      <td>761.1</td>\n",
       "      <td>78.0</td>\n",
       "      <td>6.0</td>\n",
       "      <td>6.634765</td>\n",
       "    </tr>\n",
       "  </tbody>\n",
       "</table>\n",
       "</div>"
      ],
      "text/plain": [
       "                     Temperature  Pressure  Humidity  Wind_Speed  pressure_log\n",
       "Datetime                                                                      \n",
       "2017-01-03 05:00:00         15.9     758.1      86.0         3.0      6.630815\n",
       "2017-01-03 14:00:00         20.4     760.2      64.0         8.0      6.633582\n",
       "2017-01-03 20:00:00         16.9     761.4      75.0         7.0      6.635159\n",
       "2017-01-03 23:00:00         16.4     762.3      74.0         8.0      6.636340\n",
       "2017-01-04 02:00:00         15.8     761.1      78.0         6.0      6.634765"
      ]
     },
     "execution_count": 9,
     "metadata": {},
     "output_type": "execute_result"
    }
   ],
   "source": [
    "weather_d.drop('Wind', axis=1, inplace=True)\n",
    "weather_d.head()"
   ]
  },
  {
   "cell_type": "code",
   "execution_count": 10,
   "metadata": {
    "ExecuteTime": {
     "end_time": "2019-07-16T11:30:47.133109Z",
     "start_time": "2019-07-16T11:30:46.788171Z"
    }
   },
   "outputs": [],
   "source": [
    "\n",
    "# resample at 1H to average\n",
    "resample = weather_d.resample('H', loffset='30T').pad()\n",
    "\n",
    "weather_df = resample.interpolate()\n",
    "\n",
    "# remove constant points\n",
    "\n",
    "\n",
    "weather_df.head(50)\n",
    "weather_df.to_csv('./weather_resampled.csv')"
   ]
  },
  {
   "cell_type": "code",
   "execution_count": 11,
   "metadata": {
    "ExecuteTime": {
     "end_time": "2019-07-16T11:30:47.991956Z",
     "start_time": "2019-07-16T11:30:47.942964Z"
    }
   },
   "outputs": [
    {
     "data": {
      "text/html": [
       "<div>\n",
       "<style scoped>\n",
       "    .dataframe tbody tr th:only-of-type {\n",
       "        vertical-align: middle;\n",
       "    }\n",
       "\n",
       "    .dataframe tbody tr th {\n",
       "        vertical-align: top;\n",
       "    }\n",
       "\n",
       "    .dataframe thead th {\n",
       "        text-align: right;\n",
       "    }\n",
       "</style>\n",
       "<table border=\"1\" class=\"dataframe\">\n",
       "  <thead>\n",
       "    <tr style=\"text-align: right;\">\n",
       "      <th></th>\n",
       "      <th>electric_power</th>\n",
       "      <th>Temperature</th>\n",
       "      <th>Pressure</th>\n",
       "      <th>Humidity</th>\n",
       "      <th>Wind_Speed</th>\n",
       "      <th>pressure_log</th>\n",
       "    </tr>\n",
       "    <tr>\n",
       "      <th>Datetime</th>\n",
       "      <th></th>\n",
       "      <th></th>\n",
       "      <th></th>\n",
       "      <th></th>\n",
       "      <th></th>\n",
       "      <th></th>\n",
       "    </tr>\n",
       "  </thead>\n",
       "  <tbody>\n",
       "    <tr>\n",
       "      <th>2017-02-06 07:30:00</th>\n",
       "      <td>26.597063</td>\n",
       "      <td>21.7</td>\n",
       "      <td>760.0</td>\n",
       "      <td>62.0</td>\n",
       "      <td>7.0</td>\n",
       "      <td>6.633318</td>\n",
       "    </tr>\n",
       "    <tr>\n",
       "      <th>2017-02-06 08:30:00</th>\n",
       "      <td>30.096608</td>\n",
       "      <td>24.1</td>\n",
       "      <td>762.9</td>\n",
       "      <td>62.0</td>\n",
       "      <td>4.0</td>\n",
       "      <td>6.637127</td>\n",
       "    </tr>\n",
       "    <tr>\n",
       "      <th>2017-02-06 09:30:00</th>\n",
       "      <td>30.744339</td>\n",
       "      <td>24.1</td>\n",
       "      <td>762.9</td>\n",
       "      <td>62.0</td>\n",
       "      <td>4.0</td>\n",
       "      <td>6.637127</td>\n",
       "    </tr>\n",
       "    <tr>\n",
       "      <th>2017-02-06 10:30:00</th>\n",
       "      <td>30.696277</td>\n",
       "      <td>24.1</td>\n",
       "      <td>762.9</td>\n",
       "      <td>62.0</td>\n",
       "      <td>4.0</td>\n",
       "      <td>6.637127</td>\n",
       "    </tr>\n",
       "    <tr>\n",
       "      <th>2017-02-06 11:30:00</th>\n",
       "      <td>29.545297</td>\n",
       "      <td>26.3</td>\n",
       "      <td>763.0</td>\n",
       "      <td>51.0</td>\n",
       "      <td>4.0</td>\n",
       "      <td>6.637258</td>\n",
       "    </tr>\n",
       "  </tbody>\n",
       "</table>\n",
       "</div>"
      ],
      "text/plain": [
       "                     electric_power  Temperature  Pressure  Humidity  \\\n",
       "Datetime                                                               \n",
       "2017-02-06 07:30:00       26.597063         21.7     760.0      62.0   \n",
       "2017-02-06 08:30:00       30.096608         24.1     762.9      62.0   \n",
       "2017-02-06 09:30:00       30.744339         24.1     762.9      62.0   \n",
       "2017-02-06 10:30:00       30.696277         24.1     762.9      62.0   \n",
       "2017-02-06 11:30:00       29.545297         26.3     763.0      51.0   \n",
       "\n",
       "                     Wind_Speed  pressure_log  \n",
       "Datetime                                       \n",
       "2017-02-06 07:30:00         7.0      6.633318  \n",
       "2017-02-06 08:30:00         4.0      6.637127  \n",
       "2017-02-06 09:30:00         4.0      6.637127  \n",
       "2017-02-06 10:30:00         4.0      6.637127  \n",
       "2017-02-06 11:30:00         4.0      6.637258  "
      ]
     },
     "execution_count": 11,
     "metadata": {},
     "output_type": "execute_result"
    }
   ],
   "source": [
    "comb_df = pd.concat([pjme_df.loc[weather_df.index[0]:weather_df.index[-1]], weather_df], axis=1).sort_index().dropna()\n",
    "\n",
    "comb_df.head()"
   ]
  },
  {
   "cell_type": "code",
   "execution_count": 12,
   "metadata": {
    "ExecuteTime": {
     "end_time": "2019-07-16T11:30:51.708345Z",
     "start_time": "2019-07-16T11:30:51.684302Z"
    }
   },
   "outputs": [
    {
     "data": {
      "text/html": [
       "<div>\n",
       "<style scoped>\n",
       "    .dataframe tbody tr th:only-of-type {\n",
       "        vertical-align: middle;\n",
       "    }\n",
       "\n",
       "    .dataframe tbody tr th {\n",
       "        vertical-align: top;\n",
       "    }\n",
       "\n",
       "    .dataframe thead th {\n",
       "        text-align: right;\n",
       "    }\n",
       "</style>\n",
       "<table border=\"1\" class=\"dataframe\">\n",
       "  <thead>\n",
       "    <tr style=\"text-align: right;\">\n",
       "      <th></th>\n",
       "      <th>electric_power</th>\n",
       "      <th>Temperature</th>\n",
       "      <th>Pressure</th>\n",
       "      <th>Humidity</th>\n",
       "      <th>Wind_Speed</th>\n",
       "      <th>pressure_log</th>\n",
       "    </tr>\n",
       "    <tr>\n",
       "      <th>Datetime</th>\n",
       "      <th></th>\n",
       "      <th></th>\n",
       "      <th></th>\n",
       "      <th></th>\n",
       "      <th></th>\n",
       "      <th></th>\n",
       "    </tr>\n",
       "  </thead>\n",
       "  <tbody>\n",
       "    <tr>\n",
       "      <th>2018-10-30 11:30:00</th>\n",
       "      <td>11.071924</td>\n",
       "      <td>27.6</td>\n",
       "      <td>764.3</td>\n",
       "      <td>48.0</td>\n",
       "      <td>4.0</td>\n",
       "      <td>6.63896</td>\n",
       "    </tr>\n",
       "    <tr>\n",
       "      <th>2018-10-30 12:30:00</th>\n",
       "      <td>10.741479</td>\n",
       "      <td>27.6</td>\n",
       "      <td>764.3</td>\n",
       "      <td>48.0</td>\n",
       "      <td>4.0</td>\n",
       "      <td>6.63896</td>\n",
       "    </tr>\n",
       "    <tr>\n",
       "      <th>2018-10-30 13:30:00</th>\n",
       "      <td>10.163620</td>\n",
       "      <td>27.6</td>\n",
       "      <td>764.3</td>\n",
       "      <td>48.0</td>\n",
       "      <td>4.0</td>\n",
       "      <td>6.63896</td>\n",
       "    </tr>\n",
       "    <tr>\n",
       "      <th>2018-10-30 14:30:00</th>\n",
       "      <td>9.992667</td>\n",
       "      <td>27.9</td>\n",
       "      <td>763.2</td>\n",
       "      <td>49.0</td>\n",
       "      <td>5.0</td>\n",
       "      <td>6.63752</td>\n",
       "    </tr>\n",
       "    <tr>\n",
       "      <th>2018-10-30 15:30:00</th>\n",
       "      <td>9.924275</td>\n",
       "      <td>27.9</td>\n",
       "      <td>763.2</td>\n",
       "      <td>49.0</td>\n",
       "      <td>5.0</td>\n",
       "      <td>6.63752</td>\n",
       "    </tr>\n",
       "  </tbody>\n",
       "</table>\n",
       "</div>"
      ],
      "text/plain": [
       "                     electric_power  Temperature  Pressure  Humidity  \\\n",
       "Datetime                                                               \n",
       "2018-10-30 11:30:00       11.071924         27.6     764.3      48.0   \n",
       "2018-10-30 12:30:00       10.741479         27.6     764.3      48.0   \n",
       "2018-10-30 13:30:00       10.163620         27.6     764.3      48.0   \n",
       "2018-10-30 14:30:00        9.992667         27.9     763.2      49.0   \n",
       "2018-10-30 15:30:00        9.924275         27.9     763.2      49.0   \n",
       "\n",
       "                     Wind_Speed  pressure_log  \n",
       "Datetime                                       \n",
       "2018-10-30 11:30:00         4.0       6.63896  \n",
       "2018-10-30 12:30:00         4.0       6.63896  \n",
       "2018-10-30 13:30:00         4.0       6.63896  \n",
       "2018-10-30 14:30:00         5.0       6.63752  \n",
       "2018-10-30 15:30:00         5.0       6.63752  "
      ]
     },
     "execution_count": 12,
     "metadata": {},
     "output_type": "execute_result"
    }
   ],
   "source": [
    "comb_df.tail()"
   ]
  },
  {
   "cell_type": "markdown",
   "metadata": {},
   "source": [
    "### Power and weather data visualization"
   ]
  },
  {
   "cell_type": "code",
   "execution_count": 13,
   "metadata": {
    "ExecuteTime": {
     "end_time": "2019-07-16T11:30:55.183685Z",
     "start_time": "2019-07-16T11:30:53.108050Z"
    }
   },
   "outputs": [
    {
     "data": {
      "image/png": "[encoded data removed]",
      "text/plain": [
       "<Figure size 1440x1080 with 4 Axes>"
      ]
     },
     "metadata": {
      "needs_background": "light"
     },
     "output_type": "display_data"
    }
   ],
   "source": [
    "fig, axes = plt.subplots(nrows=4, ncols=1, figsize=(20,15))\n",
    "axes[0].set_title('Electric Power Consumption')\n",
    "axes[0].set_ylabel('Power(KW)')\n",
    "axes[0].set_xlabel('Datetime')\n",
    "comb_df.electric_power.plot(ax=axes[0])\n",
    "\n",
    "axes[1].set_title('Temperature')\n",
    "axes[1].set_ylabel('Temperature(C)')\n",
    "axes[1].set_xlabel('Datetime')\n",
    "comb_df.Temperature.plot(ax=axes[1])\n",
    "\n",
    "axes[2].set_title('Pressure')\n",
    "axes[2].set_ylabel('Pressure')\n",
    "axes[2].set_xlabel('Datetime')\n",
    "comb_df.Pressure.plot(ax=axes[2])\n",
    "\n",
    "axes[3].set_title('Pressure_log')\n",
    "axes[3].set_ylabel('Pressure_log')\n",
    "axes[3].set_xlabel('Datetime')\n",
    "comb_df.pressure_log.plot(ax=axes[3]                      \n",
    "                      \n",
    "                     )\n",
    "\n",
    "plt.tight_layout()\n",
    "plt.show()"
   ]
  },
  {
   "cell_type": "markdown",
   "metadata": {},
   "source": [
    "## Time series features"
   ]
  },
  {
   "cell_type": "markdown",
   "metadata": {},
   "source": [
    "* Adding time series features."
   ]
  },
  {
   "cell_type": "code",
   "execution_count": 14,
   "metadata": {
    "ExecuteTime": {
     "end_time": "2019-07-16T11:30:57.647247Z",
     "start_time": "2019-07-16T11:30:57.572261Z"
    }
   },
   "outputs": [],
   "source": [
    "final_df = (comb_df.assign( day_of_week = comb_df.index.dayofweek\n",
    "                            ,year = comb_df.index.year\n",
    "                            ,month = comb_df.index.month\n",
    "                            ,day = comb_df.index.day\n",
    "                            ,day_of_year = comb_df.index.dayofyear\n",
    "\n",
    "                            ,week = comb_df.index.week\n",
    "                            ,week_day = comb_df.index.weekday_name \n",
    "                            ,quarter = comb_df.index.quarter\n",
    "                            ,hour = comb_df.index.hour\n",
    "                            ,hour_x = np.sin(2.*np.pi*comb_df.index.hour/24.)\n",
    "                            ,hour_y = np.cos(2*np.pi*comb_df.index.hour/24.)\n",
    "                            ,day_of_year_x = np.sin(2.*np.pi*comb_df.index.dayofyear/365.)\n",
    "                            ,day_of_year_y = np.cos(2.*np.pi*comb_df.index.dayofyear/365.)\n",
    "\n",
    "                          )\n",
    "           )\n",
    "\n",
    "# df['hourfloat']=df.hour+df.minute/60.0\n",
    "# df['x']=np.sin(2.*np.pi*df.hourfloat/24.)\n",
    "# df['y']=np.cos(2.*np.pi*df.hourfloat/24.)"
   ]
  },
  {
   "cell_type": "code",
   "execution_count": 15,
   "metadata": {
    "ExecuteTime": {
     "end_time": "2019-07-16T11:31:47.188486Z",
     "start_time": "2019-07-16T11:31:47.148495Z"
    }
   },
   "outputs": [
    {
     "data": {
      "text/html": [
       "<div>\n",
       "<style scoped>\n",
       "    .dataframe tbody tr th:only-of-type {\n",
       "        vertical-align: middle;\n",
       "    }\n",
       "\n",
       "    .dataframe tbody tr th {\n",
       "        vertical-align: top;\n",
       "    }\n",
       "\n",
       "    .dataframe thead th {\n",
       "        text-align: right;\n",
       "    }\n",
       "</style>\n",
       "<table border=\"1\" class=\"dataframe\">\n",
       "  <thead>\n",
       "    <tr style=\"text-align: right;\">\n",
       "      <th></th>\n",
       "      <th>electric_power</th>\n",
       "      <th>Temperature</th>\n",
       "      <th>Pressure</th>\n",
       "      <th>Humidity</th>\n",
       "      <th>Wind_Speed</th>\n",
       "      <th>pressure_log</th>\n",
       "      <th>day_of_week</th>\n",
       "      <th>year</th>\n",
       "      <th>month</th>\n",
       "      <th>day</th>\n",
       "      <th>day_of_year</th>\n",
       "      <th>week</th>\n",
       "      <th>week_day</th>\n",
       "      <th>quarter</th>\n",
       "      <th>hour</th>\n",
       "      <th>hour_x</th>\n",
       "      <th>hour_y</th>\n",
       "      <th>day_of_year_x</th>\n",
       "      <th>day_of_year_y</th>\n",
       "    </tr>\n",
       "    <tr>\n",
       "      <th>Datetime</th>\n",
       "      <th></th>\n",
       "      <th></th>\n",
       "      <th></th>\n",
       "      <th></th>\n",
       "      <th></th>\n",
       "      <th></th>\n",
       "      <th></th>\n",
       "      <th></th>\n",
       "      <th></th>\n",
       "      <th></th>\n",
       "      <th></th>\n",
       "      <th></th>\n",
       "      <th></th>\n",
       "      <th></th>\n",
       "      <th></th>\n",
       "      <th></th>\n",
       "      <th></th>\n",
       "      <th></th>\n",
       "      <th></th>\n",
       "    </tr>\n",
       "  </thead>\n",
       "  <tbody>\n",
       "    <tr>\n",
       "      <th>2017-02-06 07:30:00</th>\n",
       "      <td>26.597063</td>\n",
       "      <td>21.7</td>\n",
       "      <td>760.0</td>\n",
       "      <td>62.0</td>\n",
       "      <td>7.0</td>\n",
       "      <td>6.633318</td>\n",
       "      <td>0</td>\n",
       "      <td>2017</td>\n",
       "      <td>2</td>\n",
       "      <td>6</td>\n",
       "      <td>37</td>\n",
       "      <td>6</td>\n",
       "      <td>Monday</td>\n",
       "      <td>1</td>\n",
       "      <td>7</td>\n",
       "      <td>0.965926</td>\n",
       "      <td>-0.258819</td>\n",
       "      <td>0.594727</td>\n",
       "      <td>0.803928</td>\n",
       "    </tr>\n",
       "    <tr>\n",
       "      <th>2017-02-06 08:30:00</th>\n",
       "      <td>30.096608</td>\n",
       "      <td>24.1</td>\n",
       "      <td>762.9</td>\n",
       "      <td>62.0</td>\n",
       "      <td>4.0</td>\n",
       "      <td>6.637127</td>\n",
       "      <td>0</td>\n",
       "      <td>2017</td>\n",
       "      <td>2</td>\n",
       "      <td>6</td>\n",
       "      <td>37</td>\n",
       "      <td>6</td>\n",
       "      <td>Monday</td>\n",
       "      <td>1</td>\n",
       "      <td>8</td>\n",
       "      <td>0.866025</td>\n",
       "      <td>-0.500000</td>\n",
       "      <td>0.594727</td>\n",
       "      <td>0.803928</td>\n",
       "    </tr>\n",
       "    <tr>\n",
       "      <th>2017-02-06 09:30:00</th>\n",
       "      <td>30.744339</td>\n",
       "      <td>24.1</td>\n",
       "      <td>762.9</td>\n",
       "      <td>62.0</td>\n",
       "      <td>4.0</td>\n",
       "      <td>6.637127</td>\n",
       "      <td>0</td>\n",
       "      <td>2017</td>\n",
       "      <td>2</td>\n",
       "      <td>6</td>\n",
       "      <td>37</td>\n",
       "      <td>6</td>\n",
       "      <td>Monday</td>\n",
       "      <td>1</td>\n",
       "      <td>9</td>\n",
       "      <td>0.707107</td>\n",
       "      <td>-0.707107</td>\n",
       "      <td>0.594727</td>\n",
       "      <td>0.803928</td>\n",
       "    </tr>\n",
       "    <tr>\n",
       "      <th>2017-02-06 10:30:00</th>\n",
       "      <td>30.696277</td>\n",
       "      <td>24.1</td>\n",
       "      <td>762.9</td>\n",
       "      <td>62.0</td>\n",
       "      <td>4.0</td>\n",
       "      <td>6.637127</td>\n",
       "      <td>0</td>\n",
       "      <td>2017</td>\n",
       "      <td>2</td>\n",
       "      <td>6</td>\n",
       "      <td>37</td>\n",
       "      <td>6</td>\n",
       "      <td>Monday</td>\n",
       "      <td>1</td>\n",
       "      <td>10</td>\n",
       "      <td>0.500000</td>\n",
       "      <td>-0.866025</td>\n",
       "      <td>0.594727</td>\n",
       "      <td>0.803928</td>\n",
       "    </tr>\n",
       "    <tr>\n",
       "      <th>2017-02-06 11:30:00</th>\n",
       "      <td>29.545297</td>\n",
       "      <td>26.3</td>\n",
       "      <td>763.0</td>\n",
       "      <td>51.0</td>\n",
       "      <td>4.0</td>\n",
       "      <td>6.637258</td>\n",
       "      <td>0</td>\n",
       "      <td>2017</td>\n",
       "      <td>2</td>\n",
       "      <td>6</td>\n",
       "      <td>37</td>\n",
       "      <td>6</td>\n",
       "      <td>Monday</td>\n",
       "      <td>1</td>\n",
       "      <td>11</td>\n",
       "      <td>0.258819</td>\n",
       "      <td>-0.965926</td>\n",
       "      <td>0.594727</td>\n",
       "      <td>0.803928</td>\n",
       "    </tr>\n",
       "  </tbody>\n",
       "</table>\n",
       "</div>"
      ],
      "text/plain": [
       "                     electric_power  Temperature  Pressure  Humidity  \\\n",
       "Datetime                                                               \n",
       "2017-02-06 07:30:00       26.597063         21.7     760.0      62.0   \n",
       "2017-02-06 08:30:00       30.096608         24.1     762.9      62.0   \n",
       "2017-02-06 09:30:00       30.744339         24.1     762.9      62.0   \n",
       "2017-02-06 10:30:00       30.696277         24.1     762.9      62.0   \n",
       "2017-02-06 11:30:00       29.545297         26.3     763.0      51.0   \n",
       "\n",
       "                     Wind_Speed  pressure_log  day_of_week  year  month  day  \\\n",
       "Datetime                                                                       \n",
       "2017-02-06 07:30:00         7.0      6.633318            0  2017      2    6   \n",
       "2017-02-06 08:30:00         4.0      6.637127            0  2017      2    6   \n",
       "2017-02-06 09:30:00         4.0      6.637127            0  2017      2    6   \n",
       "2017-02-06 10:30:00         4.0      6.637127            0  2017      2    6   \n",
       "2017-02-06 11:30:00         4.0      6.637258            0  2017      2    6   \n",
       "\n",
       "                     day_of_year  week week_day  quarter  hour    hour_x  \\\n",
       "Datetime                                                                   \n",
       "2017-02-06 07:30:00           37     6   Monday        1     7  0.965926   \n",
       "2017-02-06 08:30:00           37     6   Monday        1     8  0.866025   \n",
       "2017-02-06 09:30:00           37     6   Monday        1     9  0.707107   \n",
       "2017-02-06 10:30:00           37     6   Monday        1    10  0.500000   \n",
       "2017-02-06 11:30:00           37     6   Monday        1    11  0.258819   \n",
       "\n",
       "                       hour_y  day_of_year_x  day_of_year_y  \n",
       "Datetime                                                     \n",
       "2017-02-06 07:30:00 -0.258819       0.594727       0.803928  \n",
       "2017-02-06 08:30:00 -0.500000       0.594727       0.803928  \n",
       "2017-02-06 09:30:00 -0.707107       0.594727       0.803928  \n",
       "2017-02-06 10:30:00 -0.866025       0.594727       0.803928  \n",
       "2017-02-06 11:30:00 -0.965926       0.594727       0.803928  "
      ]
     },
     "execution_count": 15,
     "metadata": {},
     "output_type": "execute_result"
    }
   ],
   "source": [
    "final_df.head()"
   ]
  },
  {
   "cell_type": "markdown",
   "metadata": {},
   "source": [
    "## Features correlation heatmap"
   ]
  },
  {
   "cell_type": "code",
   "execution_count": 16,
   "metadata": {
    "ExecuteTime": {
     "end_time": "2019-07-16T11:31:51.799672Z",
     "start_time": "2019-07-16T11:31:48.806199Z"
    }
   },
   "outputs": [
    {
     "data": {
      "image/png": "[encoded data removed]",
      "text/plain": [
       "<Figure size 1224x576 with 2 Axes>"
      ]
     },
     "metadata": {
      "needs_background": "light"
     },
     "output_type": "display_data"
    }
   ],
   "source": [
    "fig, ax = plt.subplots(figsize = (17,8))\n",
    "corr = final_df.corr()\n",
    "ax = sns.heatmap(corr, annot=True,\n",
    "            xticklabels = corr.columns.values,\n",
    "            yticklabels = corr.columns.values)\n",
    "plt.show()"
   ]
  },
  {
   "cell_type": "markdown",
   "metadata": {},
   "source": [
    "* **Power consumption** is highly correlated to the **hour**."
   ]
  },
  {
   "cell_type": "markdown",
   "metadata": {},
   "source": [
    "## Regression Models"
   ]
  },
  {
   "cell_type": "code",
   "execution_count": 17,
   "metadata": {
    "ExecuteTime": {
     "end_time": "2019-07-16T11:31:54.334222Z",
     "start_time": "2019-07-16T11:31:54.293277Z"
    }
   },
   "outputs": [
    {
     "data": {
      "text/html": [
       "<div>\n",
       "<style scoped>\n",
       "    .dataframe tbody tr th:only-of-type {\n",
       "        vertical-align: middle;\n",
       "    }\n",
       "\n",
       "    .dataframe tbody tr th {\n",
       "        vertical-align: top;\n",
       "    }\n",
       "\n",
       "    .dataframe thead th {\n",
       "        text-align: right;\n",
       "    }\n",
       "</style>\n",
       "<table border=\"1\" class=\"dataframe\">\n",
       "  <thead>\n",
       "    <tr style=\"text-align: right;\">\n",
       "      <th></th>\n",
       "      <th>electric_power</th>\n",
       "      <th>Temperature</th>\n",
       "      <th>Pressure</th>\n",
       "      <th>Humidity</th>\n",
       "      <th>Wind_Speed</th>\n",
       "      <th>pressure_log</th>\n",
       "      <th>day_of_week</th>\n",
       "      <th>year</th>\n",
       "      <th>month</th>\n",
       "      <th>day</th>\n",
       "      <th>day_of_year</th>\n",
       "      <th>week</th>\n",
       "      <th>week_day</th>\n",
       "      <th>quarter</th>\n",
       "      <th>hour</th>\n",
       "      <th>hour_x</th>\n",
       "      <th>hour_y</th>\n",
       "      <th>day_of_year_x</th>\n",
       "      <th>day_of_year_y</th>\n",
       "    </tr>\n",
       "    <tr>\n",
       "      <th>Datetime</th>\n",
       "      <th></th>\n",
       "      <th></th>\n",
       "      <th></th>\n",
       "      <th></th>\n",
       "      <th></th>\n",
       "      <th></th>\n",
       "      <th></th>\n",
       "      <th></th>\n",
       "      <th></th>\n",
       "      <th></th>\n",
       "      <th></th>\n",
       "      <th></th>\n",
       "      <th></th>\n",
       "      <th></th>\n",
       "      <th></th>\n",
       "      <th></th>\n",
       "      <th></th>\n",
       "      <th></th>\n",
       "      <th></th>\n",
       "    </tr>\n",
       "  </thead>\n",
       "  <tbody>\n",
       "    <tr>\n",
       "      <th>2017-02-06 07:30:00</th>\n",
       "      <td>26.597063</td>\n",
       "      <td>21.7</td>\n",
       "      <td>760.0</td>\n",
       "      <td>62.0</td>\n",
       "      <td>7.0</td>\n",
       "      <td>6.633318</td>\n",
       "      <td>0</td>\n",
       "      <td>2017</td>\n",
       "      <td>2</td>\n",
       "      <td>6</td>\n",
       "      <td>37</td>\n",
       "      <td>6</td>\n",
       "      <td>Monday</td>\n",
       "      <td>1</td>\n",
       "      <td>7</td>\n",
       "      <td>0.965926</td>\n",
       "      <td>-0.258819</td>\n",
       "      <td>0.594727</td>\n",
       "      <td>0.803928</td>\n",
       "    </tr>\n",
       "    <tr>\n",
       "      <th>2017-02-06 08:30:00</th>\n",
       "      <td>30.096608</td>\n",
       "      <td>24.1</td>\n",
       "      <td>762.9</td>\n",
       "      <td>62.0</td>\n",
       "      <td>4.0</td>\n",
       "      <td>6.637127</td>\n",
       "      <td>0</td>\n",
       "      <td>2017</td>\n",
       "      <td>2</td>\n",
       "      <td>6</td>\n",
       "      <td>37</td>\n",
       "      <td>6</td>\n",
       "      <td>Monday</td>\n",
       "      <td>1</td>\n",
       "      <td>8</td>\n",
       "      <td>0.866025</td>\n",
       "      <td>-0.500000</td>\n",
       "      <td>0.594727</td>\n",
       "      <td>0.803928</td>\n",
       "    </tr>\n",
       "    <tr>\n",
       "      <th>2017-02-06 09:30:00</th>\n",
       "      <td>30.744339</td>\n",
       "      <td>24.1</td>\n",
       "      <td>762.9</td>\n",
       "      <td>62.0</td>\n",
       "      <td>4.0</td>\n",
       "      <td>6.637127</td>\n",
       "      <td>0</td>\n",
       "      <td>2017</td>\n",
       "      <td>2</td>\n",
       "      <td>6</td>\n",
       "      <td>37</td>\n",
       "      <td>6</td>\n",
       "      <td>Monday</td>\n",
       "      <td>1</td>\n",
       "      <td>9</td>\n",
       "      <td>0.707107</td>\n",
       "      <td>-0.707107</td>\n",
       "      <td>0.594727</td>\n",
       "      <td>0.803928</td>\n",
       "    </tr>\n",
       "    <tr>\n",
       "      <th>2017-02-06 10:30:00</th>\n",
       "      <td>30.696277</td>\n",
       "      <td>24.1</td>\n",
       "      <td>762.9</td>\n",
       "      <td>62.0</td>\n",
       "      <td>4.0</td>\n",
       "      <td>6.637127</td>\n",
       "      <td>0</td>\n",
       "      <td>2017</td>\n",
       "      <td>2</td>\n",
       "      <td>6</td>\n",
       "      <td>37</td>\n",
       "      <td>6</td>\n",
       "      <td>Monday</td>\n",
       "      <td>1</td>\n",
       "      <td>10</td>\n",
       "      <td>0.500000</td>\n",
       "      <td>-0.866025</td>\n",
       "      <td>0.594727</td>\n",
       "      <td>0.803928</td>\n",
       "    </tr>\n",
       "    <tr>\n",
       "      <th>2017-02-06 11:30:00</th>\n",
       "      <td>29.545297</td>\n",
       "      <td>26.3</td>\n",
       "      <td>763.0</td>\n",
       "      <td>51.0</td>\n",
       "      <td>4.0</td>\n",
       "      <td>6.637258</td>\n",
       "      <td>0</td>\n",
       "      <td>2017</td>\n",
       "      <td>2</td>\n",
       "      <td>6</td>\n",
       "      <td>37</td>\n",
       "      <td>6</td>\n",
       "      <td>Monday</td>\n",
       "      <td>1</td>\n",
       "      <td>11</td>\n",
       "      <td>0.258819</td>\n",
       "      <td>-0.965926</td>\n",
       "      <td>0.594727</td>\n",
       "      <td>0.803928</td>\n",
       "    </tr>\n",
       "  </tbody>\n",
       "</table>\n",
       "</div>"
      ],
      "text/plain": [
       "                     electric_power  Temperature  Pressure  Humidity  \\\n",
       "Datetime                                                               \n",
       "2017-02-06 07:30:00       26.597063         21.7     760.0      62.0   \n",
       "2017-02-06 08:30:00       30.096608         24.1     762.9      62.0   \n",
       "2017-02-06 09:30:00       30.744339         24.1     762.9      62.0   \n",
       "2017-02-06 10:30:00       30.696277         24.1     762.9      62.0   \n",
       "2017-02-06 11:30:00       29.545297         26.3     763.0      51.0   \n",
       "\n",
       "                     Wind_Speed  pressure_log  day_of_week  year  month  day  \\\n",
       "Datetime                                                                       \n",
       "2017-02-06 07:30:00         7.0      6.633318            0  2017      2    6   \n",
       "2017-02-06 08:30:00         4.0      6.637127            0  2017      2    6   \n",
       "2017-02-06 09:30:00         4.0      6.637127            0  2017      2    6   \n",
       "2017-02-06 10:30:00         4.0      6.637127            0  2017      2    6   \n",
       "2017-02-06 11:30:00         4.0      6.637258            0  2017      2    6   \n",
       "\n",
       "                     day_of_year  week week_day  quarter  hour    hour_x  \\\n",
       "Datetime                                                                   \n",
       "2017-02-06 07:30:00           37     6   Monday        1     7  0.965926   \n",
       "2017-02-06 08:30:00           37     6   Monday        1     8  0.866025   \n",
       "2017-02-06 09:30:00           37     6   Monday        1     9  0.707107   \n",
       "2017-02-06 10:30:00           37     6   Monday        1    10  0.500000   \n",
       "2017-02-06 11:30:00           37     6   Monday        1    11  0.258819   \n",
       "\n",
       "                       hour_y  day_of_year_x  day_of_year_y  \n",
       "Datetime                                                     \n",
       "2017-02-06 07:30:00 -0.258819       0.594727       0.803928  \n",
       "2017-02-06 08:30:00 -0.500000       0.594727       0.803928  \n",
       "2017-02-06 09:30:00 -0.707107       0.594727       0.803928  \n",
       "2017-02-06 10:30:00 -0.866025       0.594727       0.803928  \n",
       "2017-02-06 11:30:00 -0.965926       0.594727       0.803928  "
      ]
     },
     "execution_count": 17,
     "metadata": {},
     "output_type": "execute_result"
    }
   ],
   "source": [
    "final_df.head()\n"
   ]
  },
  {
   "cell_type": "markdown",
   "metadata": {},
   "source": [
    "## Lagging features\n"
   ]
  },
  {
   "cell_type": "code",
   "execution_count": 25,
   "metadata": {
    "ExecuteTime": {
     "end_time": "2019-07-16T11:36:00.183740Z",
     "start_time": "2019-07-16T11:36:00.006772Z"
    }
   },
   "outputs": [],
   "source": [
    "\n",
    "# Build lagged weather predictors.\n",
    "# lagged_df = comb_df.loc[comb_df.index.min().ceil('D'):].copy()\n",
    "lagged_df = final_df.copy()\n",
    "\n",
    "# Next day's load values.\n",
    "lagged_df['load_tomorrow'] = lagged_df['electric_power'].shift(-24)    \n",
    "\n",
    "for day in range(8):\n",
    "    lagged_df['Temperature_d' + str(day)] = lagged_df.Temperature.shift(24*day)\n",
    "    lagged_df['Wind_speed_d' + str(day)] = lagged_df.Wind_Speed.shift(24*day)\n",
    "    lagged_df['humidity_d' + str(day)] = lagged_df.Humidity.shift(24*day)\n",
    "    lagged_df['pressure_log_d' + str(day)] = lagged_df.pressure_log.shift(24*day)\n",
    "\n",
    "    \n",
    "    \n",
    "    lagged_df['load_d' + str(day)] = lagged_df.electric_power.shift(24*day)\n",
    "\n",
    "     \n",
    "lagged_df = lagged_df.dropna()\n",
    "    \n",
    "\n",
    "lagged_df = lagged_df.drop(columns=['Temperature', 'Wind_Speed', 'Humidity', 'Pressure','pressure_log' ,'week_day','electric_power'])\n",
    "# lagged_df.iloc[50:80]\n"
   ]
  },
  {
   "cell_type": "code",
   "execution_count": 26,
   "metadata": {
    "ExecuteTime": {
     "end_time": "2019-07-16T11:36:01.709469Z",
     "start_time": "2019-07-16T11:36:01.662505Z"
    }
   },
   "outputs": [
    {
     "data": {
      "text/html": [
       "<div>\n",
       "<style scoped>\n",
       "    .dataframe tbody tr th:only-of-type {\n",
       "        vertical-align: middle;\n",
       "    }\n",
       "\n",
       "    .dataframe tbody tr th {\n",
       "        vertical-align: top;\n",
       "    }\n",
       "\n",
       "    .dataframe thead th {\n",
       "        text-align: right;\n",
       "    }\n",
       "</style>\n",
       "<table border=\"1\" class=\"dataframe\">\n",
       "  <thead>\n",
       "    <tr style=\"text-align: right;\">\n",
       "      <th></th>\n",
       "      <th>day_of_week</th>\n",
       "      <th>year</th>\n",
       "      <th>month</th>\n",
       "      <th>day</th>\n",
       "      <th>day_of_year</th>\n",
       "      <th>week</th>\n",
       "      <th>quarter</th>\n",
       "      <th>hour</th>\n",
       "      <th>hour_x</th>\n",
       "      <th>hour_y</th>\n",
       "      <th>...</th>\n",
       "      <th>Temperature_d6</th>\n",
       "      <th>Wind_speed_d6</th>\n",
       "      <th>humidity_d6</th>\n",
       "      <th>pressure_log_d6</th>\n",
       "      <th>load_d6</th>\n",
       "      <th>Temperature_d7</th>\n",
       "      <th>Wind_speed_d7</th>\n",
       "      <th>humidity_d7</th>\n",
       "      <th>pressure_log_d7</th>\n",
       "      <th>load_d7</th>\n",
       "    </tr>\n",
       "    <tr>\n",
       "      <th>Datetime</th>\n",
       "      <th></th>\n",
       "      <th></th>\n",
       "      <th></th>\n",
       "      <th></th>\n",
       "      <th></th>\n",
       "      <th></th>\n",
       "      <th></th>\n",
       "      <th></th>\n",
       "      <th></th>\n",
       "      <th></th>\n",
       "      <th></th>\n",
       "      <th></th>\n",
       "      <th></th>\n",
       "      <th></th>\n",
       "      <th></th>\n",
       "      <th></th>\n",
       "      <th></th>\n",
       "      <th></th>\n",
       "      <th></th>\n",
       "      <th></th>\n",
       "      <th></th>\n",
       "    </tr>\n",
       "  </thead>\n",
       "  <tbody>\n",
       "    <tr>\n",
       "      <th>2018-10-29 11:30:00</th>\n",
       "      <td>0</td>\n",
       "      <td>2018</td>\n",
       "      <td>10</td>\n",
       "      <td>29</td>\n",
       "      <td>302</td>\n",
       "      <td>44</td>\n",
       "      <td>4</td>\n",
       "      <td>11</td>\n",
       "      <td>2.588190e-01</td>\n",
       "      <td>-0.965926</td>\n",
       "      <td>...</td>\n",
       "      <td>22.3</td>\n",
       "      <td>1.0</td>\n",
       "      <td>78.0</td>\n",
       "      <td>6.631211</td>\n",
       "      <td>9.698699</td>\n",
       "      <td>28.7</td>\n",
       "      <td>4.0</td>\n",
       "      <td>52.0</td>\n",
       "      <td>6.632002</td>\n",
       "      <td>10.791823</td>\n",
       "    </tr>\n",
       "    <tr>\n",
       "      <th>2018-10-29 12:30:00</th>\n",
       "      <td>0</td>\n",
       "      <td>2018</td>\n",
       "      <td>10</td>\n",
       "      <td>29</td>\n",
       "      <td>302</td>\n",
       "      <td>44</td>\n",
       "      <td>4</td>\n",
       "      <td>12</td>\n",
       "      <td>1.224647e-16</td>\n",
       "      <td>-1.000000</td>\n",
       "      <td>...</td>\n",
       "      <td>22.3</td>\n",
       "      <td>1.0</td>\n",
       "      <td>78.0</td>\n",
       "      <td>6.631211</td>\n",
       "      <td>9.538340</td>\n",
       "      <td>28.7</td>\n",
       "      <td>4.0</td>\n",
       "      <td>52.0</td>\n",
       "      <td>6.632002</td>\n",
       "      <td>10.874629</td>\n",
       "    </tr>\n",
       "    <tr>\n",
       "      <th>2018-10-29 13:30:00</th>\n",
       "      <td>0</td>\n",
       "      <td>2018</td>\n",
       "      <td>10</td>\n",
       "      <td>29</td>\n",
       "      <td>302</td>\n",
       "      <td>44</td>\n",
       "      <td>4</td>\n",
       "      <td>13</td>\n",
       "      <td>-2.588190e-01</td>\n",
       "      <td>-0.965926</td>\n",
       "      <td>...</td>\n",
       "      <td>22.3</td>\n",
       "      <td>1.0</td>\n",
       "      <td>78.0</td>\n",
       "      <td>6.631211</td>\n",
       "      <td>8.993180</td>\n",
       "      <td>28.7</td>\n",
       "      <td>4.0</td>\n",
       "      <td>52.0</td>\n",
       "      <td>6.632002</td>\n",
       "      <td>11.223755</td>\n",
       "    </tr>\n",
       "    <tr>\n",
       "      <th>2018-10-29 14:30:00</th>\n",
       "      <td>0</td>\n",
       "      <td>2018</td>\n",
       "      <td>10</td>\n",
       "      <td>29</td>\n",
       "      <td>302</td>\n",
       "      <td>44</td>\n",
       "      <td>4</td>\n",
       "      <td>14</td>\n",
       "      <td>-5.000000e-01</td>\n",
       "      <td>-0.866025</td>\n",
       "      <td>...</td>\n",
       "      <td>29.3</td>\n",
       "      <td>4.0</td>\n",
       "      <td>54.0</td>\n",
       "      <td>6.630288</td>\n",
       "      <td>8.663304</td>\n",
       "      <td>28.7</td>\n",
       "      <td>4.0</td>\n",
       "      <td>52.0</td>\n",
       "      <td>6.632002</td>\n",
       "      <td>10.997043</td>\n",
       "    </tr>\n",
       "    <tr>\n",
       "      <th>2018-10-29 15:30:00</th>\n",
       "      <td>0</td>\n",
       "      <td>2018</td>\n",
       "      <td>10</td>\n",
       "      <td>29</td>\n",
       "      <td>302</td>\n",
       "      <td>44</td>\n",
       "      <td>4</td>\n",
       "      <td>15</td>\n",
       "      <td>-7.071068e-01</td>\n",
       "      <td>-0.707107</td>\n",
       "      <td>...</td>\n",
       "      <td>29.3</td>\n",
       "      <td>4.0</td>\n",
       "      <td>54.0</td>\n",
       "      <td>6.630288</td>\n",
       "      <td>8.668408</td>\n",
       "      <td>28.7</td>\n",
       "      <td>4.0</td>\n",
       "      <td>52.0</td>\n",
       "      <td>6.632002</td>\n",
       "      <td>10.368045</td>\n",
       "    </tr>\n",
       "  </tbody>\n",
       "</table>\n",
       "<p>5 rows × 53 columns</p>\n",
       "</div>"
      ],
      "text/plain": [
       "                     day_of_week  year  month  day  day_of_year  week  \\\n",
       "Datetime                                                                \n",
       "2018-10-29 11:30:00            0  2018     10   29          302    44   \n",
       "2018-10-29 12:30:00            0  2018     10   29          302    44   \n",
       "2018-10-29 13:30:00            0  2018     10   29          302    44   \n",
       "2018-10-29 14:30:00            0  2018     10   29          302    44   \n",
       "2018-10-29 15:30:00            0  2018     10   29          302    44   \n",
       "\n",
       "                     quarter  hour        hour_x    hour_y    ...      \\\n",
       "Datetime                                                      ...       \n",
       "2018-10-29 11:30:00        4    11  2.588190e-01 -0.965926    ...       \n",
       "2018-10-29 12:30:00        4    12  1.224647e-16 -1.000000    ...       \n",
       "2018-10-29 13:30:00        4    13 -2.588190e-01 -0.965926    ...       \n",
       "2018-10-29 14:30:00        4    14 -5.000000e-01 -0.866025    ...       \n",
       "2018-10-29 15:30:00        4    15 -7.071068e-01 -0.707107    ...       \n",
       "\n",
       "                     Temperature_d6  Wind_speed_d6  humidity_d6  \\\n",
       "Datetime                                                          \n",
       "2018-10-29 11:30:00            22.3            1.0         78.0   \n",
       "2018-10-29 12:30:00            22.3            1.0         78.0   \n",
       "2018-10-29 13:30:00            22.3            1.0         78.0   \n",
       "2018-10-29 14:30:00            29.3            4.0         54.0   \n",
       "2018-10-29 15:30:00            29.3            4.0         54.0   \n",
       "\n",
       "                     pressure_log_d6   load_d6  Temperature_d7  Wind_speed_d7  \\\n",
       "Datetime                                                                        \n",
       "2018-10-29 11:30:00         6.631211  9.698699            28.7            4.0   \n",
       "2018-10-29 12:30:00         6.631211  9.538340            28.7            4.0   \n",
       "2018-10-29 13:30:00         6.631211  8.993180            28.7            4.0   \n",
       "2018-10-29 14:30:00         6.630288  8.663304            28.7            4.0   \n",
       "2018-10-29 15:30:00         6.630288  8.668408            28.7            4.0   \n",
       "\n",
       "                     humidity_d7  pressure_log_d7    load_d7  \n",
       "Datetime                                                      \n",
       "2018-10-29 11:30:00         52.0         6.632002  10.791823  \n",
       "2018-10-29 12:30:00         52.0         6.632002  10.874629  \n",
       "2018-10-29 13:30:00         52.0         6.632002  11.223755  \n",
       "2018-10-29 14:30:00         52.0         6.632002  10.997043  \n",
       "2018-10-29 15:30:00         52.0         6.632002  10.368045  \n",
       "\n",
       "[5 rows x 53 columns]"
      ]
     },
     "execution_count": 26,
     "metadata": {},
     "output_type": "execute_result"
    }
   ],
   "source": [
    "lagged_df.tail(5)"
   ]
  },
  {
   "cell_type": "code",
   "execution_count": 28,
   "metadata": {
    "ExecuteTime": {
     "end_time": "2019-07-16T11:36:24.141501Z",
     "start_time": "2019-07-16T11:36:24.096509Z"
    }
   },
   "outputs": [
    {
     "ename": "KeyError",
     "evalue": "\"['pressure_log'] not found in axis\"",
     "output_type": "error",
     "traceback": [
      "\u001b[1;31m---------------------------------------------------------------------------\u001b[0m",
      "\u001b[1;31mKeyError\u001b[0m                                  Traceback (most recent call last)",
      "\u001b[1;32m<ipython-input-28-a3b3394eda96>\u001b[0m in \u001b[0;36m<module>\u001b[1;34m\u001b[0m\n\u001b[1;32m----> 1\u001b[1;33m \u001b[0mX\u001b[0m \u001b[1;33m=\u001b[0m \u001b[0mlagged_df\u001b[0m\u001b[1;33m.\u001b[0m\u001b[0mdrop\u001b[0m\u001b[1;33m(\u001b[0m\u001b[0mcolumns\u001b[0m\u001b[1;33m=\u001b[0m\u001b[1;33m[\u001b[0m\u001b[1;34m'load_tomorrow'\u001b[0m\u001b[1;33m,\u001b[0m\u001b[1;34m'pressure_log'\u001b[0m\u001b[1;33m,\u001b[0m\u001b[1;34m'day_of_week'\u001b[0m\u001b[1;33m]\u001b[0m\u001b[1;33m)\u001b[0m\u001b[1;33m\u001b[0m\u001b[1;33m\u001b[0m\u001b[0m\n\u001b[0m\u001b[0;32m      2\u001b[0m \u001b[0my\u001b[0m \u001b[1;33m=\u001b[0m \u001b[0mlagged_df\u001b[0m\u001b[1;33m[\u001b[0m\u001b[1;34m'load_tomorrow'\u001b[0m\u001b[1;33m,\u001b[0m\u001b[1;34m'pressure_log'\u001b[0m\u001b[1;33m,\u001b[0m\u001b[1;34m'day_of_week'\u001b[0m\u001b[1;33m]\u001b[0m\u001b[1;33m\u001b[0m\u001b[1;33m\u001b[0m\u001b[0m\n",
      "\u001b[1;32m~\\Anaconda3\\lib\\site-packages\\pandas\\core\\frame.py\u001b[0m in \u001b[0;36mdrop\u001b[1;34m(self, labels, axis, index, columns, level, inplace, errors)\u001b[0m\n\u001b[0;32m   3695\u001b[0m                                            \u001b[0mindex\u001b[0m\u001b[1;33m=\u001b[0m\u001b[0mindex\u001b[0m\u001b[1;33m,\u001b[0m \u001b[0mcolumns\u001b[0m\u001b[1;33m=\u001b[0m\u001b[0mcolumns\u001b[0m\u001b[1;33m,\u001b[0m\u001b[1;33m\u001b[0m\u001b[1;33m\u001b[0m\u001b[0m\n\u001b[0;32m   3696\u001b[0m                                            \u001b[0mlevel\u001b[0m\u001b[1;33m=\u001b[0m\u001b[0mlevel\u001b[0m\u001b[1;33m,\u001b[0m \u001b[0minplace\u001b[0m\u001b[1;33m=\u001b[0m\u001b[0minplace\u001b[0m\u001b[1;33m,\u001b[0m\u001b[1;33m\u001b[0m\u001b[1;33m\u001b[0m\u001b[0m\n\u001b[1;32m-> 3697\u001b[1;33m                                            errors=errors)\n\u001b[0m\u001b[0;32m   3698\u001b[0m \u001b[1;33m\u001b[0m\u001b[0m\n\u001b[0;32m   3699\u001b[0m     @rewrite_axis_style_signature('mapper', [('copy', True),\n",
      "\u001b[1;32m~\\Anaconda3\\lib\\site-packages\\pandas\\core\\generic.py\u001b[0m in \u001b[0;36mdrop\u001b[1;34m(self, labels, axis, index, columns, level, inplace, errors)\u001b[0m\n\u001b[0;32m   3109\u001b[0m         \u001b[1;32mfor\u001b[0m \u001b[0maxis\u001b[0m\u001b[1;33m,\u001b[0m \u001b[0mlabels\u001b[0m \u001b[1;32min\u001b[0m \u001b[0maxes\u001b[0m\u001b[1;33m.\u001b[0m\u001b[0mitems\u001b[0m\u001b[1;33m(\u001b[0m\u001b[1;33m)\u001b[0m\u001b[1;33m:\u001b[0m\u001b[1;33m\u001b[0m\u001b[1;33m\u001b[0m\u001b[0m\n\u001b[0;32m   3110\u001b[0m             \u001b[1;32mif\u001b[0m \u001b[0mlabels\u001b[0m \u001b[1;32mis\u001b[0m \u001b[1;32mnot\u001b[0m \u001b[1;32mNone\u001b[0m\u001b[1;33m:\u001b[0m\u001b[1;33m\u001b[0m\u001b[1;33m\u001b[0m\u001b[0m\n\u001b[1;32m-> 3111\u001b[1;33m                 \u001b[0mobj\u001b[0m \u001b[1;33m=\u001b[0m \u001b[0mobj\u001b[0m\u001b[1;33m.\u001b[0m\u001b[0m_drop_axis\u001b[0m\u001b[1;33m(\u001b[0m\u001b[0mlabels\u001b[0m\u001b[1;33m,\u001b[0m \u001b[0maxis\u001b[0m\u001b[1;33m,\u001b[0m \u001b[0mlevel\u001b[0m\u001b[1;33m=\u001b[0m\u001b[0mlevel\u001b[0m\u001b[1;33m,\u001b[0m \u001b[0merrors\u001b[0m\u001b[1;33m=\u001b[0m\u001b[0merrors\u001b[0m\u001b[1;33m)\u001b[0m\u001b[1;33m\u001b[0m\u001b[1;33m\u001b[0m\u001b[0m\n\u001b[0m\u001b[0;32m   3112\u001b[0m \u001b[1;33m\u001b[0m\u001b[0m\n\u001b[0;32m   3113\u001b[0m         \u001b[1;32mif\u001b[0m \u001b[0minplace\u001b[0m\u001b[1;33m:\u001b[0m\u001b[1;33m\u001b[0m\u001b[1;33m\u001b[0m\u001b[0m\n",
      "\u001b[1;32m~\\Anaconda3\\lib\\site-packages\\pandas\\core\\generic.py\u001b[0m in \u001b[0;36m_drop_axis\u001b[1;34m(self, labels, axis, level, errors)\u001b[0m\n\u001b[0;32m   3141\u001b[0m                 \u001b[0mnew_axis\u001b[0m \u001b[1;33m=\u001b[0m \u001b[0maxis\u001b[0m\u001b[1;33m.\u001b[0m\u001b[0mdrop\u001b[0m\u001b[1;33m(\u001b[0m\u001b[0mlabels\u001b[0m\u001b[1;33m,\u001b[0m \u001b[0mlevel\u001b[0m\u001b[1;33m=\u001b[0m\u001b[0mlevel\u001b[0m\u001b[1;33m,\u001b[0m \u001b[0merrors\u001b[0m\u001b[1;33m=\u001b[0m\u001b[0merrors\u001b[0m\u001b[1;33m)\u001b[0m\u001b[1;33m\u001b[0m\u001b[1;33m\u001b[0m\u001b[0m\n\u001b[0;32m   3142\u001b[0m             \u001b[1;32melse\u001b[0m\u001b[1;33m:\u001b[0m\u001b[1;33m\u001b[0m\u001b[1;33m\u001b[0m\u001b[0m\n\u001b[1;32m-> 3143\u001b[1;33m                 \u001b[0mnew_axis\u001b[0m \u001b[1;33m=\u001b[0m \u001b[0maxis\u001b[0m\u001b[1;33m.\u001b[0m\u001b[0mdrop\u001b[0m\u001b[1;33m(\u001b[0m\u001b[0mlabels\u001b[0m\u001b[1;33m,\u001b[0m \u001b[0merrors\u001b[0m\u001b[1;33m=\u001b[0m\u001b[0merrors\u001b[0m\u001b[1;33m)\u001b[0m\u001b[1;33m\u001b[0m\u001b[1;33m\u001b[0m\u001b[0m\n\u001b[0m\u001b[0;32m   3144\u001b[0m             \u001b[0mresult\u001b[0m \u001b[1;33m=\u001b[0m \u001b[0mself\u001b[0m\u001b[1;33m.\u001b[0m\u001b[0mreindex\u001b[0m\u001b[1;33m(\u001b[0m\u001b[1;33m**\u001b[0m\u001b[1;33m{\u001b[0m\u001b[0maxis_name\u001b[0m\u001b[1;33m:\u001b[0m \u001b[0mnew_axis\u001b[0m\u001b[1;33m}\u001b[0m\u001b[1;33m)\u001b[0m\u001b[1;33m\u001b[0m\u001b[1;33m\u001b[0m\u001b[0m\n\u001b[0;32m   3145\u001b[0m \u001b[1;33m\u001b[0m\u001b[0m\n",
      "\u001b[1;32m~\\Anaconda3\\lib\\site-packages\\pandas\\core\\indexes\\base.py\u001b[0m in \u001b[0;36mdrop\u001b[1;34m(self, labels, errors)\u001b[0m\n\u001b[0;32m   4402\u001b[0m             \u001b[1;32mif\u001b[0m \u001b[0merrors\u001b[0m \u001b[1;33m!=\u001b[0m \u001b[1;34m'ignore'\u001b[0m\u001b[1;33m:\u001b[0m\u001b[1;33m\u001b[0m\u001b[1;33m\u001b[0m\u001b[0m\n\u001b[0;32m   4403\u001b[0m                 raise KeyError(\n\u001b[1;32m-> 4404\u001b[1;33m                     '{} not found in axis'.format(labels[mask]))\n\u001b[0m\u001b[0;32m   4405\u001b[0m             \u001b[0mindexer\u001b[0m \u001b[1;33m=\u001b[0m \u001b[0mindexer\u001b[0m\u001b[1;33m[\u001b[0m\u001b[1;33m~\u001b[0m\u001b[0mmask\u001b[0m\u001b[1;33m]\u001b[0m\u001b[1;33m\u001b[0m\u001b[1;33m\u001b[0m\u001b[0m\n\u001b[0;32m   4406\u001b[0m         \u001b[1;32mreturn\u001b[0m \u001b[0mself\u001b[0m\u001b[1;33m.\u001b[0m\u001b[0mdelete\u001b[0m\u001b[1;33m(\u001b[0m\u001b[0mindexer\u001b[0m\u001b[1;33m)\u001b[0m\u001b[1;33m\u001b[0m\u001b[1;33m\u001b[0m\u001b[0m\n",
      "\u001b[1;31mKeyError\u001b[0m: \"['pressure_log'] not found in axis\""
     ]
    }
   ],
   "source": [
    "X = lagged_df.drop(columns=['load_tomorrow','pressure_log','day_of_week'])\n",
    "y = lagged_df['load_tomorrow','pressure_log','day_of_week']"
   ]
  },
  {
   "cell_type": "code",
   "execution_count": 29,
   "metadata": {
    "ExecuteTime": {
     "end_time": "2019-07-16T11:36:29.966472Z",
     "start_time": "2019-07-16T11:36:29.958473Z"
    }
   },
   "outputs": [
    {
     "data": {
      "text/plain": [
       "(11118, 51)"
      ]
     },
     "execution_count": 29,
     "metadata": {},
     "output_type": "execute_result"
    }
   ],
   "source": [
    "X.shape"
   ]
  },
  {
   "cell_type": "code",
   "execution_count": 30,
   "metadata": {
    "ExecuteTime": {
     "end_time": "2019-07-16T11:36:31.130269Z",
     "start_time": "2019-07-16T11:36:31.085320Z"
    }
   },
   "outputs": [
    {
     "data": {
      "text/html": [
       "<div>\n",
       "<style scoped>\n",
       "    .dataframe tbody tr th:only-of-type {\n",
       "        vertical-align: middle;\n",
       "    }\n",
       "\n",
       "    .dataframe tbody tr th {\n",
       "        vertical-align: top;\n",
       "    }\n",
       "\n",
       "    .dataframe thead th {\n",
       "        text-align: right;\n",
       "    }\n",
       "</style>\n",
       "<table border=\"1\" class=\"dataframe\">\n",
       "  <thead>\n",
       "    <tr style=\"text-align: right;\">\n",
       "      <th></th>\n",
       "      <th>year</th>\n",
       "      <th>month</th>\n",
       "      <th>day</th>\n",
       "      <th>day_of_year</th>\n",
       "      <th>week</th>\n",
       "      <th>quarter</th>\n",
       "      <th>hour</th>\n",
       "      <th>hour_x</th>\n",
       "      <th>hour_y</th>\n",
       "      <th>day_of_year_x</th>\n",
       "      <th>...</th>\n",
       "      <th>Temperature_d6</th>\n",
       "      <th>Wind_speed_d6</th>\n",
       "      <th>humidity_d6</th>\n",
       "      <th>pressure_log_d6</th>\n",
       "      <th>load_d6</th>\n",
       "      <th>Temperature_d7</th>\n",
       "      <th>Wind_speed_d7</th>\n",
       "      <th>humidity_d7</th>\n",
       "      <th>pressure_log_d7</th>\n",
       "      <th>load_d7</th>\n",
       "    </tr>\n",
       "    <tr>\n",
       "      <th>Datetime</th>\n",
       "      <th></th>\n",
       "      <th></th>\n",
       "      <th></th>\n",
       "      <th></th>\n",
       "      <th></th>\n",
       "      <th></th>\n",
       "      <th></th>\n",
       "      <th></th>\n",
       "      <th></th>\n",
       "      <th></th>\n",
       "      <th></th>\n",
       "      <th></th>\n",
       "      <th></th>\n",
       "      <th></th>\n",
       "      <th></th>\n",
       "      <th></th>\n",
       "      <th></th>\n",
       "      <th></th>\n",
       "      <th></th>\n",
       "      <th></th>\n",
       "      <th></th>\n",
       "    </tr>\n",
       "  </thead>\n",
       "  <tbody>\n",
       "    <tr>\n",
       "      <th>2017-02-13 07:30:00</th>\n",
       "      <td>2017</td>\n",
       "      <td>2</td>\n",
       "      <td>13</td>\n",
       "      <td>44</td>\n",
       "      <td>7</td>\n",
       "      <td>1</td>\n",
       "      <td>7</td>\n",
       "      <td>0.965926</td>\n",
       "      <td>-0.258819</td>\n",
       "      <td>0.687053</td>\n",
       "      <td>...</td>\n",
       "      <td>26.5</td>\n",
       "      <td>3.0</td>\n",
       "      <td>81.0</td>\n",
       "      <td>6.622736</td>\n",
       "      <td>23.724793</td>\n",
       "      <td>21.7</td>\n",
       "      <td>7.0</td>\n",
       "      <td>62.0</td>\n",
       "      <td>6.633318</td>\n",
       "      <td>26.597063</td>\n",
       "    </tr>\n",
       "    <tr>\n",
       "      <th>2017-02-13 08:30:00</th>\n",
       "      <td>2017</td>\n",
       "      <td>2</td>\n",
       "      <td>13</td>\n",
       "      <td>44</td>\n",
       "      <td>7</td>\n",
       "      <td>1</td>\n",
       "      <td>8</td>\n",
       "      <td>0.866025</td>\n",
       "      <td>-0.500000</td>\n",
       "      <td>0.687053</td>\n",
       "      <td>...</td>\n",
       "      <td>26.5</td>\n",
       "      <td>3.0</td>\n",
       "      <td>81.0</td>\n",
       "      <td>6.622736</td>\n",
       "      <td>29.001268</td>\n",
       "      <td>24.1</td>\n",
       "      <td>4.0</td>\n",
       "      <td>62.0</td>\n",
       "      <td>6.637127</td>\n",
       "      <td>30.096608</td>\n",
       "    </tr>\n",
       "    <tr>\n",
       "      <th>2017-02-13 09:30:00</th>\n",
       "      <td>2017</td>\n",
       "      <td>2</td>\n",
       "      <td>13</td>\n",
       "      <td>44</td>\n",
       "      <td>7</td>\n",
       "      <td>1</td>\n",
       "      <td>9</td>\n",
       "      <td>0.707107</td>\n",
       "      <td>-0.707107</td>\n",
       "      <td>0.687053</td>\n",
       "      <td>...</td>\n",
       "      <td>26.5</td>\n",
       "      <td>3.0</td>\n",
       "      <td>81.0</td>\n",
       "      <td>6.622736</td>\n",
       "      <td>29.602776</td>\n",
       "      <td>24.1</td>\n",
       "      <td>4.0</td>\n",
       "      <td>62.0</td>\n",
       "      <td>6.637127</td>\n",
       "      <td>30.744339</td>\n",
       "    </tr>\n",
       "    <tr>\n",
       "      <th>2017-02-13 10:30:00</th>\n",
       "      <td>2017</td>\n",
       "      <td>2</td>\n",
       "      <td>13</td>\n",
       "      <td>44</td>\n",
       "      <td>7</td>\n",
       "      <td>1</td>\n",
       "      <td>10</td>\n",
       "      <td>0.500000</td>\n",
       "      <td>-0.866025</td>\n",
       "      <td>0.687053</td>\n",
       "      <td>...</td>\n",
       "      <td>26.5</td>\n",
       "      <td>3.0</td>\n",
       "      <td>81.0</td>\n",
       "      <td>6.622736</td>\n",
       "      <td>30.570478</td>\n",
       "      <td>24.1</td>\n",
       "      <td>4.0</td>\n",
       "      <td>62.0</td>\n",
       "      <td>6.637127</td>\n",
       "      <td>30.696277</td>\n",
       "    </tr>\n",
       "    <tr>\n",
       "      <th>2017-02-13 11:30:00</th>\n",
       "      <td>2017</td>\n",
       "      <td>2</td>\n",
       "      <td>13</td>\n",
       "      <td>44</td>\n",
       "      <td>7</td>\n",
       "      <td>1</td>\n",
       "      <td>11</td>\n",
       "      <td>0.258819</td>\n",
       "      <td>-0.965926</td>\n",
       "      <td>0.687053</td>\n",
       "      <td>...</td>\n",
       "      <td>26.5</td>\n",
       "      <td>3.0</td>\n",
       "      <td>81.0</td>\n",
       "      <td>6.622736</td>\n",
       "      <td>28.461510</td>\n",
       "      <td>26.3</td>\n",
       "      <td>4.0</td>\n",
       "      <td>51.0</td>\n",
       "      <td>6.637258</td>\n",
       "      <td>29.545297</td>\n",
       "    </tr>\n",
       "  </tbody>\n",
       "</table>\n",
       "<p>5 rows × 51 columns</p>\n",
       "</div>"
      ],
      "text/plain": [
       "                     year  month  day  day_of_year  week  quarter  hour  \\\n",
       "Datetime                                                                  \n",
       "2017-02-13 07:30:00  2017      2   13           44     7        1     7   \n",
       "2017-02-13 08:30:00  2017      2   13           44     7        1     8   \n",
       "2017-02-13 09:30:00  2017      2   13           44     7        1     9   \n",
       "2017-02-13 10:30:00  2017      2   13           44     7        1    10   \n",
       "2017-02-13 11:30:00  2017      2   13           44     7        1    11   \n",
       "\n",
       "                       hour_x    hour_y  day_of_year_x    ...      \\\n",
       "Datetime                                                  ...       \n",
       "2017-02-13 07:30:00  0.965926 -0.258819       0.687053    ...       \n",
       "2017-02-13 08:30:00  0.866025 -0.500000       0.687053    ...       \n",
       "2017-02-13 09:30:00  0.707107 -0.707107       0.687053    ...       \n",
       "2017-02-13 10:30:00  0.500000 -0.866025       0.687053    ...       \n",
       "2017-02-13 11:30:00  0.258819 -0.965926       0.687053    ...       \n",
       "\n",
       "                     Temperature_d6  Wind_speed_d6  humidity_d6  \\\n",
       "Datetime                                                          \n",
       "2017-02-13 07:30:00            26.5            3.0         81.0   \n",
       "2017-02-13 08:30:00            26.5            3.0         81.0   \n",
       "2017-02-13 09:30:00            26.5            3.0         81.0   \n",
       "2017-02-13 10:30:00            26.5            3.0         81.0   \n",
       "2017-02-13 11:30:00            26.5            3.0         81.0   \n",
       "\n",
       "                     pressure_log_d6    load_d6  Temperature_d7  \\\n",
       "Datetime                                                          \n",
       "2017-02-13 07:30:00         6.622736  23.724793            21.7   \n",
       "2017-02-13 08:30:00         6.622736  29.001268            24.1   \n",
       "2017-02-13 09:30:00         6.622736  29.602776            24.1   \n",
       "2017-02-13 10:30:00         6.622736  30.570478            24.1   \n",
       "2017-02-13 11:30:00         6.622736  28.461510            26.3   \n",
       "\n",
       "                     Wind_speed_d7  humidity_d7  pressure_log_d7    load_d7  \n",
       "Datetime                                                                     \n",
       "2017-02-13 07:30:00            7.0         62.0         6.633318  26.597063  \n",
       "2017-02-13 08:30:00            4.0         62.0         6.637127  30.096608  \n",
       "2017-02-13 09:30:00            4.0         62.0         6.637127  30.744339  \n",
       "2017-02-13 10:30:00            4.0         62.0         6.637127  30.696277  \n",
       "2017-02-13 11:30:00            4.0         51.0         6.637258  29.545297  \n",
       "\n",
       "[5 rows x 51 columns]"
      ]
     },
     "execution_count": 30,
     "metadata": {},
     "output_type": "execute_result"
    }
   ],
   "source": [
    "X.head(5)"
   ]
  },
  {
   "cell_type": "code",
   "execution_count": 31,
   "metadata": {
    "ExecuteTime": {
     "end_time": "2019-07-16T11:36:32.608004Z",
     "start_time": "2019-07-16T11:36:32.588007Z"
    }
   },
   "outputs": [
    {
     "ename": "NameError",
     "evalue": "name 'y' is not defined",
     "output_type": "error",
     "traceback": [
      "\u001b[1;31m---------------------------------------------------------------------------\u001b[0m",
      "\u001b[1;31mNameError\u001b[0m                                 Traceback (most recent call last)",
      "\u001b[1;32m<ipython-input-31-3d861059fa55>\u001b[0m in \u001b[0;36m<module>\u001b[1;34m\u001b[0m\n\u001b[1;32m----> 1\u001b[1;33m \u001b[0my\u001b[0m\u001b[1;33m.\u001b[0m\u001b[0mshape\u001b[0m\u001b[1;33m\u001b[0m\u001b[1;33m\u001b[0m\u001b[0m\n\u001b[0m",
      "\u001b[1;31mNameError\u001b[0m: name 'y' is not defined"
     ]
    }
   ],
   "source": [
    "y.shape"
   ]
  },
  {
   "cell_type": "code",
   "execution_count": null,
   "metadata": {
    "ExecuteTime": {
     "end_time": "2019-07-04T13:48:42.664400Z",
     "start_time": "2019-07-04T13:48:42.651400Z"
    }
   },
   "outputs": [],
   "source": [
    "y.head(5)"
   ]
  },
  {
   "cell_type": "code",
   "execution_count": null,
   "metadata": {
    "ExecuteTime": {
     "end_time": "2019-07-04T13:26:42.636912Z",
     "start_time": "2019-07-04T13:26:42.619868Z"
    }
   },
   "outputs": [],
   "source": [
    "X_train, X_test, y_train, y_test = train_test_split(X, y, test_size=0.2, shuffle=False)"
   ]
  },
  {
   "cell_type": "code",
   "execution_count": null,
   "metadata": {
    "ExecuteTime": {
     "end_time": "2019-07-04T13:26:43.909639Z",
     "start_time": "2019-07-04T13:26:43.862649Z"
    }
   },
   "outputs": [],
   "source": [
    "def plot_prediction(actual, prediction, start_date, end_date, title, prediction_label):\n",
    "    plt.figure(figsize=(20,5))\n",
    "    plt.title(title)\n",
    "    plt.plot(y_test.index, y_test, label='Actual')\n",
    "    plt.plot(y_test.index, prediction, label=prediction_label)\n",
    "    plt.ylabel('Power(KW)')\n",
    "    plt.xlabel('Datetime')\n",
    "    plt.legend()\n",
    "    plt.xlim(left= start_date, right=end_date)\n",
    "    plt.show()\n",
    "    \n",
    "def subplot_prediction(actual, prediction,prediction_label):\n",
    "    fig, axes = plt.subplots(nrows=3, ncols=1, figsize=(20, 15))\n",
    "    \n",
    "    con_df = pd.concat([actual.rename('Actual'),pd.DataFrame(prediction, index=actual.index, columns=[prediction_label])], axis=1)\n",
    "    axes[0].set_title('Actual vs Prediction - One day')\n",
    "    axes[0].set_ylabel('Power(KW)')\n",
    "    axes[0].set_xlabel('Datetime')\n",
    "    con_df.plot(ax=axes[0])\n",
    "    axes[0].set_xlim(left=con_df.index[-24*1] , right=con_df.index[-1])\n",
    "    \n",
    "    axes[1].set_title('Actual vs Prediction - One week')\n",
    "    axes[1].set_ylabel('Power(KW)')\n",
    "    axes[1].set_xlabel('Datetime')\n",
    "    con_df.plot(ax=axes[1])\n",
    "    axes[1].set_xlim(left=actual.index[-24*7] , right=actual.index[-1])\n",
    "    \n",
    "    axes[2].set_title('Actual vs Prediction - One month')\n",
    "    axes[2].set_ylabel('Power(KW)')\n",
    "    axes[2].set_xlabel('Datetime')\n",
    "    con_df.plot(ax=axes[2])\n",
    "    axes[2].set_xlim(left=actual.index[-24*7*4] , right=actual.index[-1])\n",
    "    \n",
    "    plt.tight_layout()\n",
    "    plt.show()\n",
    "    \n",
    "def plot_feature_importances( clf, X_train, y_train=None\n",
    "                             ,top_n=10, figsize=(10,18), print_table=False, title=\"Feature Importances\"):\n",
    "    feat_imp = pd.DataFrame({'importance':clf.feature_importances_})    \n",
    "    feat_imp['feature'] = X_train.columns\n",
    "    feat_imp.sort_values(by='importance', ascending=False, inplace=True)\n",
    "    feat_imp = feat_imp.iloc[:top_n]\n",
    "    \n",
    "    feat_imp.sort_values(by='importance', inplace=True)\n",
    "    feat_imp = feat_imp.set_index('feature', drop=True)\n",
    "    feat_imp.plot.barh(title=title, figsize=figsize)\n",
    "    plt.xlabel('Feature Importance Score')\n",
    "    plt.show()\n",
    "    \n",
    "    if print_table:\n",
    "        from IPython.display import display\n",
    "        print(\"Top {} features in descending order of importance\".format(top_n))\n",
    "        display(feat_imp.sort_values(by='importance', ascending=False))\n",
    "        \n",
    "    return feat_imp\n"
   ]
  },
  {
   "cell_type": "code",
   "execution_count": null,
   "metadata": {
    "ExecuteTime": {
     "end_time": "2019-07-04T13:26:44.962456Z",
     "start_time": "2019-07-04T13:26:44.957456Z"
    }
   },
   "outputs": [],
   "source": [
    "reg = xgb.XGBRegressor()"
   ]
  },
  {
   "cell_type": "code",
   "execution_count": null,
   "metadata": {
    "ExecuteTime": {
     "end_time": "2019-07-04T13:35:29.778631Z",
     "start_time": "2019-07-04T13:34:52.452234Z"
    }
   },
   "outputs": [],
   "source": [
    "tscv = TimeSeriesSplit(n_splits=20)\n",
    "scores = cross_val_score(reg, X.values, y.values, cv=tscv\n",
    "                         ,scoring='explained_variance'\n",
    "                        )\n",
    "print(\"Accuracy: %0.2f \" % (scores.mean()))\n",
    "print(scores)"
   ]
  },
  {
   "cell_type": "code",
   "execution_count": null,
   "metadata": {
    "ExecuteTime": {
     "end_time": "2019-07-04T13:35:55.388105Z",
     "start_time": "2019-07-04T13:35:52.010704Z"
    }
   },
   "outputs": [],
   "source": [
    "reg.fit(X_train,y_train)\n",
    "prediction = reg.predict(X_test)\n",
    "print(\"R2 Score :%0.2f \"% r2_score(y_test,prediction))\n",
    "\n"
   ]
  },
  {
   "cell_type": "raw",
   "metadata": {},
   "source": []
  },
  {
   "cell_type": "code",
   "execution_count": null,
   "metadata": {
    "ExecuteTime": {
     "end_time": "2019-07-04T13:35:58.052633Z",
     "start_time": "2019-07-04T13:35:55.396106Z"
    }
   },
   "outputs": [],
   "source": [
    "_ = plot_feature_importances(reg, X_train, y_train, top_n=X_train.shape[1], title=reg.__class__.__name__, print_table=True)\n"
   ]
  },
  {
   "cell_type": "code",
   "execution_count": null,
   "metadata": {
    "ExecuteTime": {
     "end_time": "2019-07-04T13:35:58.124621Z",
     "start_time": "2019-07-04T13:35:58.069631Z"
    }
   },
   "outputs": [],
   "source": [
    "comb_df.head()"
   ]
  },
  {
   "cell_type": "code",
   "execution_count": null,
   "metadata": {
    "ExecuteTime": {
     "end_time": "2019-07-04T13:36:09.739565Z",
     "start_time": "2019-07-04T13:36:09.714569Z"
    }
   },
   "outputs": [],
   "source": [
    "def get_features(date, comb_df):\n",
    "    features = comb_df.loc[date]\n",
    "    features = (features.assign(\n",
    "                                day_of_week = features.index.dayofweek\n",
    "                                ,year = features.index.year\n",
    "                                ,month = features.index.month\n",
    "                                ,day = features.index.day\n",
    "                                ,day_of_year = features.index.dayofyear\n",
    "                                ,week = features.index.week\n",
    "#                                             ,week_day = features.index.weekday_name \n",
    "                                ,quarter = features.index.quarter\n",
    "                                ,hour = features.index.hour\n",
    "                                ,hour_x = np.sin(2.*np.pi*features.index.hour/24.)\n",
    "                                ,hour_y = np.cos(2*np.pi*features.index.hour/24.)\n",
    "                                ,day_of_year_x = np.sin(2.*np.pi*features.index.dayofyear/365.)\n",
    "                                ,day_of_year_y = np.cos(2.*np.pi*features.index.dayofyear/365.)\n",
    "                                \n",
    "                                ))\n",
    "    \n",
    "    for day in range(8):\n",
    "        features['Temperature_d' + str(day)] = comb_df.Temperature.shift(24*day)\n",
    "        features['Wind_Speed_d' + str(day)] = comb_df.Wind_Speed.shift(24*day)\n",
    "        features['Humidity_d' + str(day)] = comb_df.Humidity.shift(24*day)\n",
    "        features['pressure_log_d' + str(day)] = comb_df.pressure_log.shift(24*day)\n",
    "\n",
    "\n",
    "\n",
    "        features['load_d' + str(day)] = comb_df.electric_power.shift(24*day)\n",
    "\n",
    "    features = features.dropna()\n",
    "    \n",
    "    features = features.drop(columns=['Temperature', 'Wind_Speed', 'Humidity', 'Pressure', 'electric_power'])\n",
    "\n",
    "    return features\n",
    "\n",
    "\n"
   ]
  },
  {
   "cell_type": "code",
   "execution_count": null,
   "metadata": {
    "ExecuteTime": {
     "end_time": "2019-07-04T13:36:11.391273Z",
     "start_time": "2019-07-04T13:36:11.370275Z"
    }
   },
   "outputs": [],
   "source": [
    "def get_features(date, comb_df):\n",
    "    features = comb_df.loc[date]\n",
    "    features = (features.assign(\n",
    "                                day_of_week = features.index.dayofweek\n",
    "                                ,year = features.index.year\n",
    "                                ,month = features.index.month\n",
    "                                ,day = features.index.day\n",
    "                                ,day_of_year = features.index.dayofyear\n",
    "                                ,week = features.index.week\n",
    "#                                             ,week_day = features.index.weekday_name \n",
    "                                ,quarter = features.index.quarter\n",
    "                                ,hour = features.index.hour\n",
    "                                ,hour_x = np.sin(2.*np.pi*features.index.hour/24.)\n",
    "                                ,hour_y = np.cos(2*np.pi*features.index.hour/24.)\n",
    "                                ,day_of_year_x = np.sin(2.*np.pi*features.index.dayofyear/365.)\n",
    "                                ,day_of_year_y = np.cos(2.*np.pi*features.index.dayofyear/365.)\n",
    "                                \n",
    "                                ))\n",
    "    \n",
    "    for day in range(8):\n",
    "        features['Temperature_d' + str(day)] = comb_df.Temperature.shift(24*day)\n",
    "        features['Wind_speed_d' + str(day)] = comb_df.Wind_Speed.shift(24*day)\n",
    "        features['Humidity_d' + str(day)] = comb_df.Humidity.shift(24*day)\n",
    "        features['pressure_log_d' + str(day)] = comb_df.pressure_log.shift(24*day)\n",
    "\n",
    "\n",
    "\n",
    "        features['load_d' + str(day)] = comb_df.electric_power.shift(24*day)\n",
    "\n",
    "    features = features.dropna()\n",
    "    \n",
    "    features = features.drop(columns=['Temperature', 'Wind_Speed', 'Humidity', 'Pressure','electric_power'])\n",
    "\n",
    "    return features\n",
    "\n",
    "\n"
   ]
  },
  {
   "cell_type": "markdown",
   "metadata": {},
   "source": [
    "# Regression Models"
   ]
  },
  {
   "cell_type": "code",
   "execution_count": null,
   "metadata": {
    "ExecuteTime": {
     "end_time": "2019-07-04T13:36:23.329210Z",
     "start_time": "2019-07-04T13:36:23.314214Z"
    }
   },
   "outputs": [],
   "source": [
    "X = final_df.drop(columns = ['electric_power','week_day'])\n",
    "y = final_df['electric_power']"
   ]
  },
  {
   "cell_type": "code",
   "execution_count": null,
   "metadata": {
    "ExecuteTime": {
     "end_time": "2019-07-04T13:36:24.537996Z",
     "start_time": "2019-07-04T13:36:24.529948Z"
    }
   },
   "outputs": [],
   "source": [
    "X.shape"
   ]
  },
  {
   "cell_type": "code",
   "execution_count": null,
   "metadata": {
    "ExecuteTime": {
     "end_time": "2019-07-04T13:36:25.749734Z",
     "start_time": "2019-07-04T13:36:25.742734Z"
    }
   },
   "outputs": [],
   "source": [
    "y.shape"
   ]
  },
  {
   "cell_type": "code",
   "execution_count": null,
   "metadata": {
    "ExecuteTime": {
     "end_time": "2019-07-04T13:36:37.727618Z",
     "start_time": "2019-07-04T13:36:37.713621Z"
    }
   },
   "outputs": [],
   "source": [
    "X_train, X_test, y_train, y_test = train_test_split(X, y, test_size=0.2, shuffle=False)"
   ]
  },
  {
   "cell_type": "markdown",
   "metadata": {},
   "source": [
    "## XGB Model\n"
   ]
  },
  {
   "cell_type": "code",
   "execution_count": null,
   "metadata": {
    "ExecuteTime": {
     "end_time": "2019-07-04T13:36:39.864236Z",
     "start_time": "2019-07-04T13:36:39.856238Z"
    }
   },
   "outputs": [],
   "source": [
    "reg = xgb.XGBRegressor()"
   ]
  },
  {
   "cell_type": "code",
   "execution_count": null,
   "metadata": {
    "ExecuteTime": {
     "end_time": "2019-07-04T13:37:50.309780Z",
     "start_time": "2019-07-04T13:37:38.243913Z"
    }
   },
   "outputs": [],
   "source": [
    "tscv = TimeSeriesSplit(n_splits=20)\n",
    "scores = cross_val_score(reg, X.values, y.values, cv=tscv\n",
    "                         ,scoring='explained_variance'\n",
    "                        )\n",
    "print(\"Accuracy: %0.2f \" % (scores.mean()))\n",
    "print(scores)"
   ]
  },
  {
   "cell_type": "code",
   "execution_count": null,
   "metadata": {
    "ExecuteTime": {
     "end_time": "2019-07-04T13:38:18.517788Z",
     "start_time": "2019-07-04T13:38:17.665941Z"
    }
   },
   "outputs": [],
   "source": [
    "reg.fit(X_train,y_train)\n",
    "prediction = reg.predict(X_test)\n",
    "print(\"R2 Score :%0.2f \"% r2_score(y_test,prediction))"
   ]
  },
  {
   "cell_type": "code",
   "execution_count": null,
   "metadata": {
    "ExecuteTime": {
     "end_time": "2019-07-04T13:38:41.776674Z",
     "start_time": "2019-07-04T13:38:41.282762Z"
    }
   },
   "outputs": [],
   "source": [
    "_ = plot_importance(reg, height=0.9)"
   ]
  },
  {
   "cell_type": "code",
   "execution_count": null,
   "metadata": {
    "ExecuteTime": {
     "end_time": "2019-07-04T13:38:45.289109Z",
     "start_time": "2019-07-04T13:38:43.795318Z"
    }
   },
   "outputs": [],
   "source": [
    "subplot_prediction(y_test, prediction,prediction_label='XGB model prediction')"
   ]
  },
  {
   "cell_type": "markdown",
   "metadata": {},
   "source": [
    "# AdaBoost Model"
   ]
  },
  {
   "cell_type": "code",
   "execution_count": null,
   "metadata": {
    "ExecuteTime": {
     "end_time": "2019-06-22T13:33:25.565266Z",
     "start_time": "2019-06-22T13:33:25.560267Z"
    }
   },
   "outputs": [],
   "source": [
    "reg = AdaBoostRegressor()"
   ]
  },
  {
   "cell_type": "code",
   "execution_count": null,
   "metadata": {
    "ExecuteTime": {
     "end_time": "2019-07-04T13:39:33.747483Z",
     "start_time": "2019-07-04T13:39:22.410489Z"
    }
   },
   "outputs": [],
   "source": [
    "tscv = TimeSeriesSplit(n_splits=20)\n",
    "scores = cross_val_score(reg, X, y, cv=tscv\n",
    "                         , scoring='explained_variance'\n",
    "                        )\n",
    "print(\"Accuracy: %0.2f\" % (scores.mean() ))\n",
    "reg.fit(X_train,y_train)\n",
    "prediction = reg.predict(X_test)\n",
    "print(\"R2 Score :%0.2f \"% r2_score(y_test,prediction))"
   ]
  },
  {
   "cell_type": "code",
   "execution_count": null,
   "metadata": {
    "ExecuteTime": {
     "end_time": "2019-07-04T13:40:07.361540Z",
     "start_time": "2019-07-04T13:40:06.571726Z"
    }
   },
   "outputs": [],
   "source": [
    "reg.fit(X_train,y_train)\n",
    "prediction = reg.predict(X_test)\n",
    "print(\"R2 Score :%0.2f \"% r2_score(y_test,prediction))"
   ]
  },
  {
   "cell_type": "code",
   "execution_count": null,
   "metadata": {
    "ExecuteTime": {
     "end_time": "2019-07-04T13:41:47.341854Z",
     "start_time": "2019-07-04T13:41:46.390027Z"
    }
   },
   "outputs": [],
   "source": [
    "_ = plot_feature_importances(reg, X_train, y_train, top_n=X_train.shape[1], title=reg.__class__.__name__)"
   ]
  },
  {
   "cell_type": "code",
   "execution_count": null,
   "metadata": {
    "ExecuteTime": {
     "end_time": "2019-07-04T13:41:49.972437Z",
     "start_time": "2019-07-04T13:41:48.433662Z"
    }
   },
   "outputs": [],
   "source": [
    "subplot_prediction(y_test, prediction,prediction_label='AdaBoost model prediction')"
   ]
  },
  {
   "cell_type": "markdown",
   "metadata": {},
   "source": [
    "# Bagging Regressor Model"
   ]
  },
  {
   "cell_type": "code",
   "execution_count": null,
   "metadata": {
    "ExecuteTime": {
     "end_time": "2019-07-04T13:42:02.288211Z",
     "start_time": "2019-07-04T13:42:02.282212Z"
    }
   },
   "outputs": [],
   "source": [
    "reg = BaggingRegressor()"
   ]
  },
  {
   "cell_type": "code",
   "execution_count": null,
   "metadata": {
    "ExecuteTime": {
     "end_time": "2019-07-04T13:42:27.637727Z",
     "start_time": "2019-07-04T13:42:13.715236Z"
    }
   },
   "outputs": [],
   "source": [
    "tscv = TimeSeriesSplit(n_splits=20)\n",
    "scores = cross_val_score(reg, X, y, cv=tscv\n",
    "                         , scoring='explained_variance'\n",
    "                        )\n",
    "print(\"Accuracy: %0.2f\" % (scores.mean() ))\n",
    "reg.fit(X_train,y_train)\n",
    "prediction = reg.predict(X_test)\n",
    "print(\"R2 Score :%0.2f \"% r2_score(y_test,prediction))"
   ]
  },
  {
   "cell_type": "code",
   "execution_count": null,
   "metadata": {
    "ExecuteTime": {
     "end_time": "2019-07-04T13:42:43.667961Z",
     "start_time": "2019-07-04T13:42:42.705066Z"
    }
   },
   "outputs": [],
   "source": [
    "reg.fit(X_train,y_train)\n",
    "prediction = reg.predict(X_test)"
   ]
  },
  {
   "cell_type": "code",
   "execution_count": null,
   "metadata": {
    "ExecuteTime": {
     "end_time": "2019-07-04T13:42:45.983486Z",
     "start_time": "2019-07-04T13:42:44.392766Z"
    }
   },
   "outputs": [],
   "source": [
    "subplot_prediction(y_test, prediction,prediction_label='Bagging Regressor model prediction')"
   ]
  },
  {
   "cell_type": "markdown",
   "metadata": {},
   "source": [
    "# Extra Trees Regressosr Model"
   ]
  },
  {
   "cell_type": "code",
   "execution_count": null,
   "metadata": {
    "ExecuteTime": {
     "end_time": "2019-07-04T13:42:59.302127Z",
     "start_time": "2019-07-04T13:42:59.296128Z"
    }
   },
   "outputs": [],
   "source": [
    "reg = ExtraTreesRegressor()"
   ]
  },
  {
   "cell_type": "code",
   "execution_count": null,
   "metadata": {
    "ExecuteTime": {
     "end_time": "2019-07-04T13:43:14.025526Z",
     "start_time": "2019-07-04T13:43:05.904960Z"
    }
   },
   "outputs": [],
   "source": [
    "tscv = TimeSeriesSplit(n_splits=20)\n",
    "scores = cross_val_score(reg, X, y, cv=tscv\n",
    "                         , scoring='explained_variance'\n",
    "                        )\n",
    "print(\"Accuracy: %0.2f\" % (scores.mean() ))\n",
    "reg.fit(X_train,y_train)\n",
    "prediction = reg.predict(X_test)\n",
    "print(\"R2 Score :%0.2f \"% r2_score(y_test,prediction))"
   ]
  },
  {
   "cell_type": "code",
   "execution_count": null,
   "metadata": {
    "ExecuteTime": {
     "end_time": "2019-07-04T13:43:19.103692Z",
     "start_time": "2019-07-04T13:43:18.525727Z"
    }
   },
   "outputs": [],
   "source": [
    "reg.fit(X_train,y_train)\n",
    "prediction = reg.predict(X_test)"
   ]
  },
  {
   "cell_type": "code",
   "execution_count": null,
   "metadata": {
    "ExecuteTime": {
     "end_time": "2019-07-04T13:43:20.632354Z",
     "start_time": "2019-07-04T13:43:19.889489Z"
    }
   },
   "outputs": [],
   "source": [
    "_ = plot_feature_importances(reg, X_train, y_train, top_n=X_train.shape[1], title=reg.__class__.__name__)"
   ]
  },
  {
   "cell_type": "code",
   "execution_count": null,
   "metadata": {
    "ExecuteTime": {
     "end_time": "2019-07-04T13:43:23.934772Z",
     "start_time": "2019-07-04T13:43:22.029107Z"
    }
   },
   "outputs": [],
   "source": [
    "subplot_prediction(y_test, prediction,prediction_label='ExtraTrees Regressor model prediction')"
   ]
  },
  {
   "cell_type": "markdown",
   "metadata": {},
   "source": [
    "## Multistep Prediction"
   ]
  },
  {
   "cell_type": "code",
   "execution_count": null,
   "metadata": {
    "ExecuteTime": {
     "end_time": "2019-07-04T13:43:31.863371Z",
     "start_time": "2019-07-04T13:43:31.824375Z"
    }
   },
   "outputs": [],
   "source": [
    "final_df.head()"
   ]
  },
  {
   "cell_type": "code",
   "execution_count": null,
   "metadata": {
    "ExecuteTime": {
     "end_time": "2019-07-04T13:43:33.331108Z",
     "start_time": "2019-07-04T13:43:33.301115Z"
    }
   },
   "outputs": [],
   "source": [
    "date = '2018-08-01'\n",
    "weather_df.loc[date].head()"
   ]
  },
  {
   "cell_type": "code",
   "execution_count": null,
   "metadata": {
    "ExecuteTime": {
     "end_time": "2019-07-04T13:43:34.852844Z",
     "start_time": "2019-07-04T13:43:34.833844Z"
    }
   },
   "outputs": [],
   "source": [
    "def get_features(date):\n",
    "    features = weather_df.loc[date]\n",
    "    features = (features.assign(\n",
    "                                day_of_week = features.index.dayofweek\n",
    "                                ,year = features.index.year\n",
    "                                ,month = features.index.month\n",
    "                                ,day = features.index.day\n",
    "                                ,day_of_year = features.index.dayofyear\n",
    "                                ,week = features.index.week\n",
    "#                                             ,week_day = features.index.weekday_name \n",
    "                                ,quarter = features.index.quarter\n",
    "                                ,hour = features.index.hour\n",
    "                                ,hour_x = np.sin(2.*np.pi*features.index.hour/24.)\n",
    "                                ,hour_y = np.cos(2*np.pi*features.index.hour/24.)\n",
    "                                ,day_of_year_x = np.sin(2.*np.pi*features.index.dayofyear/365.)\n",
    "                                ,day_of_year_y = np.cos(2.*np.pi*features.index.dayofyear/365.)\n",
    "                                ))\n",
    "    return features"
   ]
  },
  {
   "cell_type": "code",
   "execution_count": null,
   "metadata": {
    "ExecuteTime": {
     "end_time": "2019-07-04T13:43:37.209442Z",
     "start_time": "2019-07-04T13:43:37.160431Z"
    }
   },
   "outputs": [],
   "source": [
    "prediction = reg.predict(get_features(date))\n",
    "idx = comb_df.electric_power.loc[date].index \n"
   ]
  },
  {
   "cell_type": "code",
   "execution_count": null,
   "metadata": {
    "ExecuteTime": {
     "end_time": "2019-07-04T13:43:38.546187Z",
     "start_time": "2019-07-04T13:43:38.532189Z"
    }
   },
   "outputs": [],
   "source": [
    "def plot_prediction_multistep(actual, prediction, start_date, title, prediction_label):\n",
    "    date_rng = pd.date_range(start=start_date, periods=24, freq='H')\n",
    "    plt.figure(figsize=(20,5))\n",
    "    plt.title(title)\n",
    "    plt.plot(actual.index, actual, label='Actual')\n",
    "    plt.plot(actual.index, prediction, label=prediction_label)\n",
    "    plt.ylabel('Power(KW)')\n",
    "    plt.xlabel('Datetime')\n",
    "    plt.legend()\n",
    "    plt.show()"
   ]
  },
  {
   "cell_type": "code",
   "execution_count": null,
   "metadata": {
    "ExecuteTime": {
     "end_time": "2019-07-04T13:43:40.692809Z",
     "start_time": "2019-07-04T13:43:40.247886Z"
    }
   },
   "outputs": [],
   "source": [
    "plot_prediction_multistep(actual=comb_df.electric_power.loc[date],prediction=prediction, start_date=date, title='Multistep prediction - 24 hours a head',\n",
    "                prediction_label='ExtraTrees Regressor model prediction')"
   ]
  },
  {
   "cell_type": "code",
   "execution_count": null,
   "metadata": {
    "ExecuteTime": {
     "end_time": "2019-07-04T13:43:46.847768Z",
     "start_time": "2019-07-04T13:43:46.824726Z"
    }
   },
   "outputs": [],
   "source": [
    "comb_df.tail()"
   ]
  },
  {
   "cell_type": "code",
   "execution_count": null,
   "metadata": {},
   "outputs": [],
   "source": []
  }
 ],
 "metadata": {
  "kernelspec": {
   "display_name": "Python 3",
   "language": "python",
   "name": "python3"
  },
  "language_info": {
   "codemirror_mode": {
    "name": "ipython",
    "version": 3
   },
   "file_extension": ".py",
   "mimetype": "text/x-python",
   "name": "python",
   "nbconvert_exporter": "python",
   "pygments_lexer": "ipython3",
   "version": "3.7.1"
  }
 },
 "nbformat": 4,
 "nbformat_minor": 1
}
